{
  "nbformat": 4,
  "nbformat_minor": 0,
  "metadata": {
    "kernelspec": {
      "display_name": "Python 3.6.9 64-bit ('py3': conda)",
      "language": "python",
      "name": "python36964bitpy3conda309b736414e2462b91ce2d0511a095e1"
    },
    "language_info": {
      "codemirror_mode": {
        "name": "ipython",
        "version": 3
      },
      "file_extension": ".py",
      "mimetype": "text/x-python",
      "name": "python",
      "nbconvert_exporter": "python",
      "pygments_lexer": "ipython3",
      "version": "3.7.10"
    },
    "colab": {
      "name": "starter_code.ipynb",
      "provenance": [],
      "collapsed_sections": [],
      "include_colab_link": true
    },
    "accelerator": "GPU"
  },
  "cells": [
    {
      "cell_type": "markdown",
      "metadata": {
        "id": "view-in-github",
        "colab_type": "text"
      },
      "source": [
        "<a href=\"https://colab.research.google.com/github/algaebrown/cse291spr21/blob/main/starter_code.ipynb\" target=\"_parent\"><img src=\"https://colab.research.google.com/assets/colab-badge.svg\" alt=\"Open In Colab\"/></a>"
      ]
    },
    {
      "cell_type": "markdown",
      "metadata": {
        "id": "oCMONKcQEJIE"
      },
      "source": [
        "## Introduction\n",
        "\n",
        "In this notebook we will be adding a few improvements - packed padded sequences and masking - to the model from the previous notebook. Packed padded sequences are used to tell our RNN to skip over padding tokens in our encoder. Masking explicitly forces the model to ignore certain values, such as attention over padded elements. Both of these techniques are commonly used in NLP. \n",
        "\n",
        "We will also look at how to use our model for inference, by giving it a sentence, seeing what it translates it as and seeing where exactly it pays attention to when translating each word.\n",
        "\n",
        "Finally, we'll use the BLEU metric to measure the quality of our translations.\n",
        "\n",
        "## Preparing Data\n",
        "\n",
        "First, we'll import all the modules as before, with the addition of the `matplotlib` modules used for viewing the attention."
      ]
    },
    {
      "cell_type": "code",
      "metadata": {
        "colab": {
          "base_uri": "https://localhost:8080/"
        },
        "id": "VionF-dtEKyw",
        "outputId": "4e526cc6-2ef5-4899-b219-9c4263b0837d"
      },
      "source": [
        "# setting up environment\n",
        "from google.colab import drive\n",
        "drive.mount('/content/gdrive')\n"
      ],
      "execution_count": 1,
      "outputs": [
        {
          "output_type": "stream",
          "text": [
            "Mounted at /content/gdrive\n"
          ],
          "name": "stdout"
        }
      ]
    },
    {
      "cell_type": "code",
      "metadata": {
        "id": "OM1nK4yr9BSV"
      },
      "source": [
        "!cd gdrive/MyDrive/cse291_nlp/cse291spr21/assignment1"
      ],
      "execution_count": 2,
      "outputs": []
    },
    {
      "cell_type": "code",
      "metadata": {
        "colab": {
          "base_uri": "https://localhost:8080/"
        },
        "id": "_UKVsb-FEWJ9",
        "outputId": "0dae51e9-7991-40d1-b4f6-d5e8b989b80c"
      },
      "source": [
        "!pip install torchtext\n",
        "import spacy.cli\n",
        "spacy.cli.download(\"de_core_news_sm\")\n",
        "spacy.cli.download(\"en_core_web_sm\")"
      ],
      "execution_count": 3,
      "outputs": [
        {
          "output_type": "stream",
          "text": [
            "Requirement already satisfied: torchtext in /usr/local/lib/python3.7/dist-packages (0.9.1)\n",
            "Requirement already satisfied: tqdm in /usr/local/lib/python3.7/dist-packages (from torchtext) (4.41.1)\n",
            "Requirement already satisfied: torch==1.8.1 in /usr/local/lib/python3.7/dist-packages (from torchtext) (1.8.1+cu101)\n",
            "Requirement already satisfied: requests in /usr/local/lib/python3.7/dist-packages (from torchtext) (2.23.0)\n",
            "Requirement already satisfied: numpy in /usr/local/lib/python3.7/dist-packages (from torchtext) (1.19.5)\n",
            "Requirement already satisfied: typing-extensions in /usr/local/lib/python3.7/dist-packages (from torch==1.8.1->torchtext) (3.7.4.3)\n",
            "Requirement already satisfied: urllib3!=1.25.0,!=1.25.1,<1.26,>=1.21.1 in /usr/local/lib/python3.7/dist-packages (from requests->torchtext) (1.24.3)\n",
            "Requirement already satisfied: certifi>=2017.4.17 in /usr/local/lib/python3.7/dist-packages (from requests->torchtext) (2020.12.5)\n",
            "Requirement already satisfied: idna<3,>=2.5 in /usr/local/lib/python3.7/dist-packages (from requests->torchtext) (2.10)\n",
            "Requirement already satisfied: chardet<4,>=3.0.2 in /usr/local/lib/python3.7/dist-packages (from requests->torchtext) (3.0.4)\n",
            "\u001b[38;5;2m✔ Download and installation successful\u001b[0m\n",
            "You can now load the model via spacy.load('de_core_news_sm')\n",
            "\u001b[38;5;2m✔ Download and installation successful\u001b[0m\n",
            "You can now load the model via spacy.load('en_core_web_sm')\n"
          ],
          "name": "stdout"
        }
      ]
    },
    {
      "cell_type": "code",
      "metadata": {
        "id": "UXBq1yRHEJIH"
      },
      "source": [
        "import torch\n",
        "import torch.nn as nn\n",
        "import torch.optim as optim\n",
        "import torch.nn.functional as F\n",
        "\n",
        "from torchtext.legacy.datasets import Multi30k\n",
        "from torchtext.legacy.data import Field, BucketIterator, TabularDataset\n",
        "\n",
        "import matplotlib.pyplot as plt\n",
        "import matplotlib.ticker as ticker\n",
        "\n",
        "import spacy\n",
        "import numpy as np\n",
        "\n",
        "import random\n",
        "import math\n",
        "import time\n",
        "import json"
      ],
      "execution_count": 4,
      "outputs": []
    },
    {
      "cell_type": "markdown",
      "metadata": {
        "id": "v9WlmuNQEJII"
      },
      "source": [
        "Next, we'll set the random seed for reproducability."
      ]
    },
    {
      "cell_type": "code",
      "metadata": {
        "id": "w5AaBT15EJII"
      },
      "source": [
        "SEED = 1234\n",
        "\n",
        "random.seed(SEED)\n",
        "np.random.seed(SEED)\n",
        "torch.manual_seed(SEED)\n",
        "torch.cuda.manual_seed(SEED)\n",
        "torch.backends.cudnn.deterministic = True"
      ],
      "execution_count": 5,
      "outputs": []
    },
    {
      "cell_type": "markdown",
      "metadata": {
        "id": "RyqJ3up2EJIJ"
      },
      "source": [
        "As before, we'll import spaCy and define the German and English tokenizers."
      ]
    },
    {
      "cell_type": "code",
      "metadata": {
        "id": "t_e162IYEJIK"
      },
      "source": [
        "# tokenizers\n",
        "spacy_de = spacy.load('de_core_news_sm')\n",
        "spacy_en = spacy.load('en_core_web_sm')"
      ],
      "execution_count": 6,
      "outputs": []
    },
    {
      "cell_type": "code",
      "metadata": {
        "id": "AlWCGyvHEJIK"
      },
      "source": [
        "def tokenize_de(text):\n",
        "    \"\"\"\n",
        "    Tokenizes German text from a string into a list of strings\n",
        "    \"\"\"\n",
        "    return [tok.text for tok in spacy_de.tokenizer(text)]\n",
        "\n",
        "def tokenize_en(text):\n",
        "    \"\"\"\n",
        "    Tokenizes English text from a string into a list of strings\n",
        "    \"\"\"\n",
        "    return [tok.text for tok in spacy_en.tokenizer(text)]"
      ],
      "execution_count": 7,
      "outputs": []
    },
    {
      "cell_type": "markdown",
      "metadata": {
        "id": "1uqIhVo9EJIL"
      },
      "source": [
        "When using packed padded sequences, we need to tell PyTorch how long the actual (non-padded) sequences are. Luckily for us, TorchText's `Field` objects allow us to use the `include_lengths` argument, this will cause our `batch.src` to be a tuple. The first element of the tuple is the same as before, a batch of numericalized source sentence as a tensor, and the second element is the non-padded lengths of each source sentence within the batch."
      ]
    },
    {
      "cell_type": "code",
      "metadata": {
        "id": "Ry5UrRvPEJIL"
      },
      "source": [
        "SRC = Field(\n",
        "#   tokenize = tokenize_de, \n",
        "    init_token = '<sos>', \n",
        "    eos_token = '<eos>', \n",
        "    lower = True, \n",
        "    include_lengths = True # the length of the sentence\n",
        ")\n",
        "\n",
        "TRG = Field(\n",
        "    #tokenize = tokenize_en, \n",
        "    init_token = '<sos>', \n",
        "    eos_token = '<eos>', \n",
        "    lower = True\n",
        ")"
      ],
      "execution_count": 8,
      "outputs": []
    },
    {
      "cell_type": "markdown",
      "metadata": {
        "id": "1H0CRdzqEJIM"
      },
      "source": [
        "We then load the data."
      ]
    },
    {
      "cell_type": "code",
      "metadata": {
        "colab": {
          "base_uri": "https://localhost:8080/"
        },
        "id": "tPX84t46EJIN",
        "outputId": "47a94749-4463-404e-8df9-b20addf8c166"
      },
      "source": [
        "# NOTE: this line takes a long time to run on Colab so \n",
        "# instead we'll load the already tokenized json dataset\n",
        "# from Github\n",
        "#\n",
        "# train_data, valid_data, test_data = Multi30k.splits(exts = ('.de', '.en'), \n",
        "#                                                     fields = (SRC, TRG))\n",
        "\n",
        "# fetch from Github repo\n",
        "!wget https://raw.githubusercontent.com/tberg12/cse291spr21/main/assignment1/train.json\n",
        "!wget https://raw.githubusercontent.com/tberg12/cse291spr21/main/assignment1/valid.json\n",
        "!wget https://raw.githubusercontent.com/tberg12/cse291spr21/main/assignment1/test.json\n",
        "\n",
        "# and load to same variables\n",
        "fields = {'src': ('src', SRC), 'trg': ('trg', TRG)}\n",
        "train_data, valid_data, test_data = TabularDataset.splits(\n",
        "    path = '.',\n",
        "    train = 'train.json',\n",
        "    validation = 'valid.json',\n",
        "    test = 'test.json',\n",
        "    format = 'json',\n",
        "    fields = fields\n",
        ")"
      ],
      "execution_count": 9,
      "outputs": [
        {
          "output_type": "stream",
          "text": [
            "--2021-05-06 19:02:50--  https://raw.githubusercontent.com/tberg12/cse291spr21/main/assignment1/train.json\n",
            "Resolving raw.githubusercontent.com (raw.githubusercontent.com)... 185.199.109.133, 185.199.110.133, 185.199.108.133, ...\n",
            "Connecting to raw.githubusercontent.com (raw.githubusercontent.com)|185.199.109.133|:443... connected.\n",
            "HTTP request sent, awaiting response... 200 OK\n",
            "Length: 6894783 (6.6M) [text/plain]\n",
            "Saving to: ‘train.json’\n",
            "\n",
            "train.json          100%[===================>]   6.58M  26.5MB/s    in 0.2s    \n",
            "\n",
            "2021-05-06 19:02:51 (26.5 MB/s) - ‘train.json’ saved [6894783/6894783]\n",
            "\n",
            "--2021-05-06 19:02:51--  https://raw.githubusercontent.com/tberg12/cse291spr21/main/assignment1/valid.json\n",
            "Resolving raw.githubusercontent.com (raw.githubusercontent.com)... 185.199.110.133, 185.199.108.133, 185.199.111.133, ...\n",
            "Connecting to raw.githubusercontent.com (raw.githubusercontent.com)|185.199.110.133|:443... connected.\n",
            "HTTP request sent, awaiting response... 200 OK\n",
            "Length: 244768 (239K) [text/plain]\n",
            "Saving to: ‘valid.json’\n",
            "\n",
            "valid.json          100%[===================>] 239.03K  --.-KB/s    in 0.03s   \n",
            "\n",
            "2021-05-06 19:02:52 (6.93 MB/s) - ‘valid.json’ saved [244768/244768]\n",
            "\n",
            "--2021-05-06 19:02:52--  https://raw.githubusercontent.com/tberg12/cse291spr21/main/assignment1/test.json\n",
            "Resolving raw.githubusercontent.com (raw.githubusercontent.com)... 185.199.109.133, 185.199.110.133, 185.199.108.133, ...\n",
            "Connecting to raw.githubusercontent.com (raw.githubusercontent.com)|185.199.109.133|:443... connected.\n",
            "HTTP request sent, awaiting response... 200 OK\n",
            "Length: 234161 (229K) [text/plain]\n",
            "Saving to: ‘test.json’\n",
            "\n",
            "test.json           100%[===================>] 228.67K  --.-KB/s    in 0.03s   \n",
            "\n",
            "2021-05-06 19:02:52 (7.28 MB/s) - ‘test.json’ saved [234161/234161]\n",
            "\n"
          ],
          "name": "stdout"
        }
      ]
    },
    {
      "cell_type": "markdown",
      "metadata": {
        "id": "jQhfzZacEJIP"
      },
      "source": [
        "And build the vocabulary."
      ]
    },
    {
      "cell_type": "code",
      "metadata": {
        "id": "8aGLqGhcEJIP"
      },
      "source": [
        "# https://towardsdatascience.com/use-torchtext-to-load-nlp-datasets-part-i-5da6f1c89d84\n",
        "# build_vocab later allows us to make \n",
        "SRC.build_vocab(train_data, min_freq = 2) # tokenize is to make sentence into a list of word\n",
        "TRG.build_vocab(train_data, min_freq = 2)"
      ],
      "execution_count": 10,
      "outputs": []
    },
    {
      "cell_type": "markdown",
      "metadata": {
        "id": "w6YWDtYXEJIQ"
      },
      "source": [
        "Next, we handle the iterators.\n",
        "\n",
        "One quirk about packed padded sequences is that all elements in the batch need to be sorted by their non-padded lengths in descending order, i.e. the first sentence in the batch needs to be the longest. We use two arguments of the iterator to handle this, `sort_within_batch` which tells the iterator that the contents of the batch need to be sorted, and `sort_key` a function which tells the iterator how to sort the elements in the batch. Here, we sort by the length of the `src` sentence."
      ]
    },
    {
      "cell_type": "code",
      "metadata": {
        "id": "Wv9KoBBLEJIQ"
      },
      "source": [
        "BATCH_SIZE = 128\n",
        "\n",
        "device = torch.device('cuda' if torch.cuda.is_available() else 'cpu')\n",
        "\n",
        "train_iterator, valid_iterator, test_iterator = BucketIterator.splits(\n",
        "    (train_data, valid_data, test_data), \n",
        "     batch_size = BATCH_SIZE,\n",
        "     sort_within_batch = True,\n",
        "     sort_key = lambda x : len(x.src),\n",
        "     device = device)"
      ],
      "execution_count": 11,
      "outputs": []
    },
    {
      "cell_type": "code",
      "metadata": {
        "colab": {
          "base_uri": "https://localhost:8080/"
        },
        "id": "WGgPBiREGw6v",
        "outputId": "f1b07c1a-398a-49d1-cff8-186859bc9907"
      },
      "source": [
        "train_iterator"
      ],
      "execution_count": 12,
      "outputs": [
        {
          "output_type": "execute_result",
          "data": {
            "text/plain": [
              "<torchtext.legacy.data.iterator.BucketIterator at 0x7f3a060289d0>"
            ]
          },
          "metadata": {
            "tags": []
          },
          "execution_count": 12
        }
      ]
    },
    {
      "cell_type": "markdown",
      "metadata": {
        "id": "MRglYCnXEJIR"
      },
      "source": [
        "## Building the Model\n",
        "\n",
        "### Encoder\n",
        "\n",
        "Next up, we define the encoder.\n",
        "\n",
        "The changes here all within the `forward` method. It now accepts the lengths of the source sentences as well as the sentences themselves. \n",
        "\n",
        "After the source sentence (padded automatically within the iterator) has been embedded, we can then use `pack_padded_sequence` on it with the lengths of the sentences. Note that the tensor containing the lengths of the sequences must be a CPU tensor as of the latest version of PyTorch, which we explicitly do so with `to('cpu')`. `packed_embedded` will then be our packed padded sequence. This can be then fed to our RNN as normal which will return `packed_outputs`, a packed tensor containing all of the hidden states from the sequence, and `hidden` which is simply the final hidden state from our sequence. `hidden` is a standard tensor and not packed in any way, the only difference is that as the input was a packed sequence, this tensor is from the final **non-padded element** in the sequence.\n",
        "\n",
        "We then unpack our `packed_outputs` using `pad_packed_sequence` which returns the `outputs` and the lengths of each, which we don't need. \n",
        "\n",
        "The first dimension of `outputs` is the padded sequence lengths however due to using a packed padded sequence the values of tensors when a padding token was the input will be all zeros."
      ]
    },
    {
      "cell_type": "code",
      "metadata": {
        "id": "-lRMiCIvEJIR"
      },
      "source": [
        "class Encoder(nn.Module):\n",
        "    def __init__(self, input_dim, emb_dim, enc_hid_dim, dec_hid_dim, dropout):\n",
        "        super().__init__()\n",
        "        \n",
        "        self.embedding = nn.Embedding(input_dim, emb_dim)\n",
        "        \n",
        "        self.rnn = nn.GRU(emb_dim, enc_hid_dim, bidirectional = True)\n",
        "        \n",
        "        self.fc = nn.Linear(enc_hid_dim * 2, dec_hid_dim)\n",
        "        \n",
        "        self.dropout = nn.Dropout(dropout) # randomly zero out elements\n",
        "        \n",
        "    def forward(self, src, src_len):\n",
        "        \n",
        "        #src = [src len, batch size]\n",
        "        #src_len = [batch size]\n",
        "        \n",
        "        embedded = self.dropout(self.embedding(src))\n",
        "        \n",
        "        #embedded = [src len, batch size, emb dim]\n",
        "                \n",
        "        #need to explicitly put lengths on cpu!\n",
        "        packed_embedded = nn.utils.rnn.pack_padded_sequence(embedded, src_len.to('cpu')) # https://stackoverflow.com/questions/51030782/why-do-we-pack-the-sequences-in-pytorch\n",
        "                \n",
        "        packed_outputs, hidden = self.rnn(packed_embedded) # RNN returns the hidden states\n",
        "                                 \n",
        "        #packed_outputs is a packed sequence containing all hidden states\n",
        "        #hidden is now from the final non-padded element in the batch; hidden = final hidden state\n",
        "            \n",
        "        outputs, _ = nn.utils.rnn.pad_packed_sequence(packed_outputs) \n",
        "            \n",
        "        #outputs is now a non-packed sequence, all hidden states obtained\n",
        "        #  when the input is a pad token are all zeros\n",
        "            \n",
        "        #outputs = [src len, batch size, hid dim * num directions]\n",
        "        #hidden = [n layers * num directions, batch size, hid dim]\n",
        "        \n",
        "        #hidden is stacked [forward_1, backward_1, forward_2, backward_2, ...]\n",
        "        #outputs are always from the last layer\n",
        "        \n",
        "        #hidden [-2, :, : ] is the last of the forwards RNN \n",
        "        #hidden [-1, :, : ] is the last of the backwards RNN\n",
        "        \n",
        "        #initial decoder hidden is final hidden state of the forwards and backwards \n",
        "        #  encoder RNNs fed through a linear layer\n",
        "        hidden = torch.tanh(self.fc(torch.cat((hidden[-2,:,:], hidden[-1,:,:]), dim = 1)))\n",
        "        \n",
        "        #outputs = [src len, batch size, enc hid dim * 2]\n",
        "        #hidden = [batch size, dec hid dim]\n",
        "        \n",
        "        return outputs, hidden"
      ],
      "execution_count": 13,
      "outputs": []
    },
    {
      "cell_type": "markdown",
      "metadata": {
        "id": "mD79pK4IEJIR"
      },
      "source": [
        "### Attention\n",
        "\n",
        "The attention module is where we calculate the attention values over the source sentence. \n",
        "\n",
        "Previously, we allowed this module to \"pay attention\" to padding tokens within the source sentence. However, using *masking*, we can force the attention to only be over non-padding elements.\n",
        "\n",
        "The `forward` method now takes a `mask` input. This is a **[batch size, source sentence length]** tensor that is 1 when the source sentence token is not a padding token, and 0 when it is a padding token. For example, if the source sentence is: [\"hello\", \"how\", \"are\", \"you\", \"?\", `<pad>`, `<pad>`], then the mask would be [1, 1, 1, 1, 1, 0, 0].\n",
        "\n",
        "We apply the mask after the attention has been calculated, but before it has been normalized by the `softmax` function. It is applied using `masked_fill`. This fills the tensor at each element where the first argument (`mask == 0`) is true, with the value given by the second argument (`-1e10`). In other words, it will take the un-normalized attention values, and change the attention values over padded elements to be `-1e10`. As these numbers will be miniscule compared to the other values they will become zero when passed through the `softmax` layer, ensuring no attention is payed to padding tokens in the source sentence."
      ]
    },
    {
      "cell_type": "code",
      "metadata": {
        "id": "1zogS0gpEJIR"
      },
      "source": [
        "class Attention(nn.Module):\n",
        "    def __init__(self, enc_hid_dim, dec_hid_dim):\n",
        "        super().__init__()\n",
        "        \n",
        "        self.attn = nn.Linear((enc_hid_dim * 2) + dec_hid_dim, dec_hid_dim)\n",
        "        self.v = nn.Linear(dec_hid_dim, 1, bias = False)\n",
        "        \n",
        "    def forward(self, hidden, encoder_outputs, mask):\n",
        "        \n",
        "        #hidden = [batch size, dec hid dim]\n",
        "        #encoder_outputs = [src len, batch size, enc hid dim * 2]\n",
        "        \n",
        "        batch_size = encoder_outputs.shape[1]\n",
        "        src_len = encoder_outputs.shape[0]\n",
        "        \n",
        "        #repeat decoder hidden state src_len times\n",
        "        hidden = hidden.unsqueeze(1).repeat(1, src_len, 1)\n",
        "  \n",
        "        encoder_outputs = encoder_outputs.permute(1, 0, 2)\n",
        "        \n",
        "        #hidden = [batch size, src len, dec hid dim]\n",
        "        #encoder_outputs = [batch size, src len, enc hid dim * 2]\n",
        "        \n",
        "        energy = torch.tanh(self.attn(torch.cat((hidden, encoder_outputs), dim = 2))) \n",
        "        \n",
        "        #energy = [batch size, src len, dec hid dim]\n",
        "\n",
        "        attention = self.v(energy).squeeze(2)\n",
        "        \n",
        "        #attention = [batch size, src len]\n",
        "        \n",
        "        attention = attention.masked_fill(mask == 0, -1e10) # make <pad> little value\n",
        "        \n",
        "        return F.softmax(attention, dim = 1)"
      ],
      "execution_count": 14,
      "outputs": []
    },
    {
      "cell_type": "markdown",
      "metadata": {
        "id": "VEXnqPTDEJIR"
      },
      "source": [
        "### Decoder\n",
        "\n",
        "The decoder only needs a few small changes. It needs to accept a mask over the source sentence and pass this to the attention module. As we want to view the values of attention during inference, we also return the attention tensor."
      ]
    },
    {
      "cell_type": "code",
      "metadata": {
        "id": "HZzjzdn8EJIR"
      },
      "source": [
        "class Decoder(nn.Module):\n",
        "    def __init__(self, output_dim, emb_dim, enc_hid_dim, dec_hid_dim, dropout, attention):\n",
        "        super().__init__()\n",
        "\n",
        "        self.output_dim = output_dim\n",
        "        self.attention = attention\n",
        "        \n",
        "        self.embedding = nn.Embedding(output_dim, emb_dim)\n",
        "        \n",
        "        self.rnn = nn.GRU((enc_hid_dim * 2) + emb_dim, dec_hid_dim)\n",
        "        \n",
        "        self.fc_out = nn.Linear((enc_hid_dim * 2) + dec_hid_dim + emb_dim, output_dim)\n",
        "        \n",
        "        self.dropout = nn.Dropout(dropout)\n",
        "        \n",
        "    def forward(self, input, hidden, encoder_outputs, mask):\n",
        "             \n",
        "        #input = [batch size]\n",
        "        #hidden = [batch size, dec hid dim]\n",
        "        #encoder_outputs = [src len, batch size, enc hid dim * 2]\n",
        "        #mask = [batch size, src len]\n",
        "        \n",
        "        input = input.unsqueeze(0)\n",
        "        \n",
        "        #input = [1, batch size]\n",
        "        \n",
        "        embedded = self.dropout(self.embedding(input))\n",
        "        \n",
        "        #embedded = [1, batch size, emb dim]\n",
        "        \n",
        "        a = self.attention(hidden, encoder_outputs, mask)\n",
        "                \n",
        "        #a = [batch size, src len]\n",
        "        \n",
        "        a = a.unsqueeze(1)\n",
        "        \n",
        "        #a = [batch size, 1, src len]\n",
        "        \n",
        "        encoder_outputs = encoder_outputs.permute(1, 0, 2)\n",
        "        \n",
        "        #encoder_outputs = [batch size, src len, enc hid dim * 2]\n",
        "        \n",
        "        weighted = torch.bmm(a, encoder_outputs)\n",
        "        \n",
        "        #weighted = [batch size, 1, enc hid dim * 2]\n",
        "        \n",
        "        weighted = weighted.permute(1, 0, 2)\n",
        "        \n",
        "        #weighted = [1, batch size, enc hid dim * 2]\n",
        "        \n",
        "        rnn_input = torch.cat((embedded, weighted), dim = 2)\n",
        "        \n",
        "        #rnn_input = [1, batch size, (enc hid dim * 2) + emb dim]\n",
        "            \n",
        "        output, hidden = self.rnn(rnn_input, hidden.unsqueeze(0))\n",
        "        \n",
        "        #output = [seq len, batch size, dec hid dim * n directions]\n",
        "        #hidden = [n layers * n directions, batch size, dec hid dim]\n",
        "        \n",
        "        #seq len, n layers and n directions will always be 1 in this decoder, therefore:\n",
        "        #output = [1, batch size, dec hid dim]\n",
        "        #hidden = [1, batch size, dec hid dim]\n",
        "        #this also means that output == hidden\n",
        "        assert (output == hidden).all()\n",
        "        \n",
        "        embedded = embedded.squeeze(0)\n",
        "        output = output.squeeze(0)\n",
        "        weighted = weighted.squeeze(0)\n",
        "        \n",
        "        prediction = self.fc_out(torch.cat((output, weighted, embedded), dim = 1))\n",
        "        \n",
        "        #prediction = [batch size, output dim]\n",
        "        \n",
        "        return prediction, hidden.squeeze(0), a.squeeze(1)"
      ],
      "execution_count": 15,
      "outputs": []
    },
    {
      "cell_type": "markdown",
      "metadata": {
        "id": "0s8QtYk2EJIS"
      },
      "source": [
        "### Seq2Seq\n",
        "\n",
        "The overarching seq2seq model also needs a few changes for packed padded sequences, masking and inference. \n",
        "\n",
        "We need to tell it what the indexes are for the pad token and also pass the source sentence lengths as input to the `forward` method.\n",
        "\n",
        "We use the pad token index to create the masks, by creating a mask tensor that is 1 wherever the source sentence is not equal to the pad token. This is all done within the `create_mask` function.\n",
        "\n",
        "The sequence lengths as needed to pass to the encoder to use packed padded sequences.\n",
        "\n",
        "The attention at each time-step is stored in the `attentions` "
      ]
    },
    {
      "cell_type": "code",
      "metadata": {
        "id": "CFIU_A61EJIS"
      },
      "source": [
        "class Seq2Seq(nn.Module):\n",
        "    def __init__(self, encoder, decoder, src_pad_idx, device):\n",
        "        super().__init__()\n",
        "        \n",
        "        self.encoder = encoder\n",
        "        self.decoder = decoder\n",
        "        self.src_pad_idx = src_pad_idx\n",
        "        self.device = device\n",
        "        \n",
        "    def create_mask(self, src):\n",
        "        ''' create the mask tensor [1,1,1,1,0,0] '''\n",
        "        mask = (src != self.src_pad_idx).permute(1, 0)\n",
        "        return mask\n",
        "        \n",
        "    def forward(self, src, src_len, trg, teacher_forcing_ratio = 0.5):\n",
        "        \n",
        "        #src = [src len, batch size]\n",
        "        #src_len = [batch size]\n",
        "        #trg = [trg len, batch size]\n",
        "        #teacher_forcing_ratio is probability to use teacher forcing\n",
        "        #e.g. if teacher_forcing_ratio is 0.75 we use teacher forcing 75% of the time\n",
        "                    \n",
        "        batch_size = src.shape[1]\n",
        "        trg_len = trg.shape[0]\n",
        "        trg_vocab_size = self.decoder.output_dim\n",
        "        \n",
        "        #tensor to store decoder outputs\n",
        "        outputs = torch.zeros(trg_len, batch_size, trg_vocab_size).to(self.device)\n",
        "        \n",
        "        #encoder_outputs is all hidden states of the input sequence, back and forwards\n",
        "        #hidden is the final forward and backward hidden states, passed through a linear layer\n",
        "        encoder_outputs, hidden = self.encoder(src, src_len)\n",
        "                \n",
        "        #first input to the decoder is the <sos> tokens\n",
        "        input = trg[0,:]\n",
        "        \n",
        "        mask = self.create_mask(src)\n",
        "\n",
        "        #mask = [batch size, src len]\n",
        "                \n",
        "        for t in range(1, trg_len):\n",
        "            \n",
        "            #insert input token embedding, previous hidden state, all encoder hidden states \n",
        "            #  and mask\n",
        "            #receive output tensor (predictions) and new hidden state\n",
        "            output, hidden, _ = self.decoder(input, hidden, encoder_outputs, mask)\n",
        "            \n",
        "            #place predictions in a tensor holding predictions for each token\n",
        "            outputs[t] = output\n",
        "            \n",
        "            #decide if we are going to use teacher forcing or not\n",
        "            teacher_force = random.random() < teacher_forcing_ratio\n",
        "            \n",
        "            #get the highest predicted token from our predictions\n",
        "            top1 = output.argmax(1) \n",
        "            \n",
        "            #if teacher forcing, use actual next token as next input\n",
        "            #if not, use predicted token\n",
        "            input = trg[t] if teacher_force else top1\n",
        "            \n",
        "        return outputs"
      ],
      "execution_count": 16,
      "outputs": []
    },
    {
      "cell_type": "markdown",
      "metadata": {
        "id": "U7wW-tsyEJIS"
      },
      "source": [
        "## Training the Seq2Seq Model\n",
        "\n",
        "Next up, initializing the model and placing it on the GPU."
      ]
    },
    {
      "cell_type": "code",
      "metadata": {
        "id": "pboqtnLIEJIS"
      },
      "source": [
        "INPUT_DIM = len(SRC.vocab)\n",
        "OUTPUT_DIM = len(TRG.vocab)\n",
        "ENC_EMB_DIM = 256\n",
        "DEC_EMB_DIM = 256\n",
        "ENC_HID_DIM = 512\n",
        "DEC_HID_DIM = 512\n",
        "ENC_DROPOUT = 0.5\n",
        "DEC_DROPOUT = 0.5\n",
        "SRC_PAD_IDX = SRC.vocab.stoi[SRC.pad_token]\n",
        "\n",
        "attn = Attention(ENC_HID_DIM, DEC_HID_DIM)\n",
        "enc = Encoder(INPUT_DIM, ENC_EMB_DIM, ENC_HID_DIM, DEC_HID_DIM, ENC_DROPOUT)\n",
        "dec = Decoder(OUTPUT_DIM, DEC_EMB_DIM, ENC_HID_DIM, DEC_HID_DIM, DEC_DROPOUT, attn)\n",
        "\n",
        "model = Seq2Seq(enc, dec, SRC_PAD_IDX, device).to(device)"
      ],
      "execution_count": 17,
      "outputs": []
    },
    {
      "cell_type": "markdown",
      "metadata": {
        "id": "z_uvNWGjEJIT"
      },
      "source": [
        "Then, we initialize the model parameters."
      ]
    },
    {
      "cell_type": "code",
      "metadata": {
        "colab": {
          "base_uri": "https://localhost:8080/"
        },
        "id": "q3waDKwhEJIT",
        "outputId": "523c9ddf-4818-4725-b6e6-63b9aaaf40f2"
      },
      "source": [
        "def init_weights(m):\n",
        "    for name, param in m.named_parameters():\n",
        "        if 'weight' in name:\n",
        "            nn.init.normal_(param.data, mean=0, std=0.01)\n",
        "        else:\n",
        "            nn.init.constant_(param.data, 0)\n",
        "            \n",
        "model.apply(init_weights)"
      ],
      "execution_count": 18,
      "outputs": [
        {
          "output_type": "execute_result",
          "data": {
            "text/plain": [
              "Seq2Seq(\n",
              "  (encoder): Encoder(\n",
              "    (embedding): Embedding(7853, 256)\n",
              "    (rnn): GRU(256, 512, bidirectional=True)\n",
              "    (fc): Linear(in_features=1024, out_features=512, bias=True)\n",
              "    (dropout): Dropout(p=0.5, inplace=False)\n",
              "  )\n",
              "  (decoder): Decoder(\n",
              "    (attention): Attention(\n",
              "      (attn): Linear(in_features=1536, out_features=512, bias=True)\n",
              "      (v): Linear(in_features=512, out_features=1, bias=False)\n",
              "    )\n",
              "    (embedding): Embedding(5893, 256)\n",
              "    (rnn): GRU(1280, 512)\n",
              "    (fc_out): Linear(in_features=1792, out_features=5893, bias=True)\n",
              "    (dropout): Dropout(p=0.5, inplace=False)\n",
              "  )\n",
              ")"
            ]
          },
          "metadata": {
            "tags": []
          },
          "execution_count": 18
        }
      ]
    },
    {
      "cell_type": "markdown",
      "metadata": {
        "id": "2us4TpvBEJIU"
      },
      "source": [
        "We'll print out the number of trainable parameters in the model, noticing that it has the exact same amount of parameters as the model without these improvements."
      ]
    },
    {
      "cell_type": "code",
      "metadata": {
        "colab": {
          "base_uri": "https://localhost:8080/"
        },
        "id": "tzbGOPJdEJIU",
        "outputId": "8ac8f76c-ccc6-45f5-b298-ffa79729a71c"
      },
      "source": [
        "def count_parameters(model):\n",
        "    return sum(p.numel() for p in model.parameters() if p.requires_grad)\n",
        "\n",
        "print(f'The model has {count_parameters(model):,} trainable parameters')"
      ],
      "execution_count": 19,
      "outputs": [
        {
          "output_type": "stream",
          "text": [
            "The model has 20,518,405 trainable parameters\n"
          ],
          "name": "stdout"
        }
      ]
    },
    {
      "cell_type": "markdown",
      "metadata": {
        "id": "EISUg9ruEJIU"
      },
      "source": [
        "Then we define our optimizer and criterion. \n",
        "\n",
        "The `ignore_index` for the criterion needs to be the index of the pad token for the target language, not the source language."
      ]
    },
    {
      "cell_type": "code",
      "metadata": {
        "id": "zHDED6XsEJIU"
      },
      "source": [
        "optimizer = optim.Adam(model.parameters())"
      ],
      "execution_count": 20,
      "outputs": []
    },
    {
      "cell_type": "code",
      "metadata": {
        "id": "28Dr9cbbEJIU"
      },
      "source": [
        "TRG_PAD_IDX = TRG.vocab.stoi[TRG.pad_token] # ignore the <pad> in the target language\n",
        "\n",
        "criterion = nn.CrossEntropyLoss(ignore_index = TRG_PAD_IDX)"
      ],
      "execution_count": 21,
      "outputs": []
    },
    {
      "cell_type": "markdown",
      "metadata": {
        "id": "multq04UEJIV"
      },
      "source": [
        "Next, we'll define our training and evaluation loops.\n",
        "\n",
        "As we are using `include_lengths = True` for our source field, `batch.src` is now a tuple with the first element being the numericalized tensor representing the sentence and the second element being the lengths of each sentence within the batch.\n",
        "\n",
        "Our model also returns the attention vectors over the batch of source source sentences for each decoding time-step. We won't use these during the training/evaluation, but we will later for inference."
      ]
    },
    {
      "cell_type": "code",
      "metadata": {
        "id": "JI3DzdAgEJIW"
      },
      "source": [
        "def train(model, iterator, optimizer, criterion, clip):\n",
        "    \n",
        "    model.train()\n",
        "    \n",
        "    epoch_loss = 0\n",
        "    \n",
        "    for i, batch in enumerate(iterator): # iterate through batch\n",
        "        \n",
        "        src, src_len = batch.src # tensor with the sentences in 1 batch, length of the sentence\n",
        "        trg = batch.trg\n",
        "        \n",
        "        optimizer.zero_grad()\n",
        "        \n",
        "        output = model(src, src_len, trg)\n",
        "        \n",
        "        #trg = [trg len, batch size]\n",
        "        #output = [trg len, batch size, output dim]\n",
        "        \n",
        "        output_dim = output.shape[-1]\n",
        "        \n",
        "        output = output[1:].view(-1, output_dim)\n",
        "        trg = trg[1:].view(-1)\n",
        "        \n",
        "        #trg = [(trg len - 1) * batch size]\n",
        "        #output = [(trg len - 1) * batch size, output dim]\n",
        "        \n",
        "        loss = criterion(output, trg)\n",
        "        \n",
        "        loss.backward()\n",
        "        \n",
        "        torch.nn.utils.clip_grad_norm_(model.parameters(), clip)\n",
        "        \n",
        "        optimizer.step() # update\n",
        "        \n",
        "        epoch_loss += loss.item()\n",
        "        \n",
        "    return epoch_loss / len(iterator)"
      ],
      "execution_count": 22,
      "outputs": []
    },
    {
      "cell_type": "code",
      "metadata": {
        "id": "D9n0XHH7EJIW"
      },
      "source": [
        "def evaluate(model, iterator, criterion):\n",
        "    \n",
        "    model.eval()\n",
        "    \n",
        "    epoch_loss = 0\n",
        "    \n",
        "    with torch.no_grad():\n",
        "    \n",
        "        for i, batch in enumerate(iterator):\n",
        "\n",
        "            src, src_len = batch.src\n",
        "            trg = batch.trg\n",
        "\n",
        "            output = model(src, src_len, trg, 0) #turn off teacher forcing\n",
        "            \n",
        "            #trg = [trg len, batch size]\n",
        "            #output = [trg len, batch size, output dim]\n",
        "\n",
        "            output_dim = output.shape[-1]\n",
        "            \n",
        "            output = output[1:].view(-1, output_dim)\n",
        "            trg = trg[1:].view(-1)\n",
        "\n",
        "            #trg = [(trg len - 1) * batch size]\n",
        "            #output = [(trg len - 1) * batch size, output dim]\n",
        "\n",
        "            loss = criterion(output, trg)\n",
        "\n",
        "            epoch_loss += loss.item()\n",
        "        \n",
        "    return epoch_loss / len(iterator)"
      ],
      "execution_count": 23,
      "outputs": []
    },
    {
      "cell_type": "markdown",
      "metadata": {
        "id": "VoLg7vl3EJIW"
      },
      "source": [
        "Then, we'll define a useful function for timing how long epochs take."
      ]
    },
    {
      "cell_type": "code",
      "metadata": {
        "id": "vuoa3m0NEJIW"
      },
      "source": [
        "def epoch_time(start_time, end_time):\n",
        "    ''' timing how long it takes '''\n",
        "    elapsed_time = end_time - start_time\n",
        "    elapsed_mins = int(elapsed_time / 60)\n",
        "    elapsed_secs = int(elapsed_time - (elapsed_mins * 60))\n",
        "    return elapsed_mins, elapsed_secs"
      ],
      "execution_count": 24,
      "outputs": []
    },
    {
      "cell_type": "markdown",
      "metadata": {
        "id": "s1JmztXGEJIX"
      },
      "source": [
        "The penultimate step is to train our model. Notice how it takes almost half the time as our model without the improvements added in this notebook."
      ]
    },
    {
      "cell_type": "code",
      "metadata": {
        "colab": {
          "base_uri": "https://localhost:8080/"
        },
        "id": "MzSdkLgHEJIX",
        "outputId": "cc8acdec-dee2-477a-c622-664d2502cf32"
      },
      "source": [
        "N_EPOCHS = 10\n",
        "CLIP = 1\n",
        "\n",
        "best_valid_loss = float('inf')\n",
        "train_curve = []\n",
        "val_curve = []\n",
        "\n",
        "for epoch in range(N_EPOCHS):\n",
        "    \n",
        "    start_time = time.time()\n",
        "    \n",
        "    train_loss = train(model, train_iterator, optimizer, criterion, CLIP)\n",
        "    valid_loss = evaluate(model, valid_iterator, criterion)\n",
        "\n",
        "    train_curve.append(train_loss)\n",
        "    val_curve.append(valid_loss)\n",
        "    \n",
        "    end_time = time.time()\n",
        "    \n",
        "    epoch_mins, epoch_secs = epoch_time(start_time, end_time)\n",
        "    \n",
        "    if valid_loss < best_valid_loss:\n",
        "        best_valid_loss = valid_loss\n",
        "        torch.save(model.state_dict(), 'tut4-model.pt')\n",
        "    \n",
        "    print(f'Epoch: {epoch+1:02} | Time: {epoch_mins}m {epoch_secs}s')\n",
        "    print(f'\\tTrain Loss: {train_loss:.3f} | Train PPL: {math.exp(train_loss):7.3f}')\n",
        "    print(f'\\t Val. Loss: {valid_loss:.3f} |  Val. PPL: {math.exp(valid_loss):7.3f}')"
      ],
      "execution_count": 25,
      "outputs": [
        {
          "output_type": "stream",
          "text": [
            "Epoch: 01 | Time: 0m 24s\n",
            "\tTrain Loss: 5.060 | Train PPL: 157.616\n",
            "\t Val. Loss: 4.787 |  Val. PPL: 119.907\n",
            "Epoch: 02 | Time: 0m 24s\n",
            "\tTrain Loss: 4.111 | Train PPL:  60.980\n",
            "\t Val. Loss: 4.152 |  Val. PPL:  63.530\n",
            "Epoch: 03 | Time: 0m 24s\n",
            "\tTrain Loss: 3.337 | Train PPL:  28.127\n",
            "\t Val. Loss: 3.572 |  Val. PPL:  35.602\n",
            "Epoch: 04 | Time: 0m 24s\n",
            "\tTrain Loss: 2.844 | Train PPL:  17.179\n",
            "\t Val. Loss: 3.352 |  Val. PPL:  28.554\n",
            "Epoch: 05 | Time: 0m 24s\n",
            "\tTrain Loss: 2.458 | Train PPL:  11.676\n",
            "\t Val. Loss: 3.234 |  Val. PPL:  25.369\n",
            "Epoch: 06 | Time: 0m 24s\n",
            "\tTrain Loss: 2.166 | Train PPL:   8.720\n",
            "\t Val. Loss: 3.226 |  Val. PPL:  25.184\n",
            "Epoch: 07 | Time: 0m 24s\n",
            "\tTrain Loss: 1.933 | Train PPL:   6.913\n",
            "\t Val. Loss: 3.150 |  Val. PPL:  23.325\n",
            "Epoch: 08 | Time: 0m 24s\n",
            "\tTrain Loss: 1.742 | Train PPL:   5.711\n",
            "\t Val. Loss: 3.231 |  Val. PPL:  25.293\n",
            "Epoch: 09 | Time: 0m 24s\n",
            "\tTrain Loss: 1.587 | Train PPL:   4.887\n",
            "\t Val. Loss: 3.286 |  Val. PPL:  26.742\n",
            "Epoch: 10 | Time: 0m 24s\n",
            "\tTrain Loss: 1.482 | Train PPL:   4.400\n",
            "\t Val. Loss: 3.334 |  Val. PPL:  28.041\n"
          ],
          "name": "stdout"
        }
      ]
    },
    {
      "cell_type": "code",
      "metadata": {
        "id": "1bF0moI3PH8z"
      },
      "source": [
        "# v=Plot the training and validation loss curves. Report some translation samples and visualize theirattention matrices.  (Hint:  Check out the starter code – it already provides functionality for visual-izing attention weights.)  Calculate the test BLEU [4] score of your model.  (Hint:  You can \u0018nd animplementation of BLEU in the starter code.)You might also \u0018nd the following resources "
      ],
      "execution_count": 26,
      "outputs": []
    },
    {
      "cell_type": "code",
      "metadata": {
        "colab": {
          "base_uri": "https://localhost:8080/",
          "height": 297
        },
        "id": "aAyoVakbOxXN",
        "outputId": "832c5335-4995-4dcf-8c94-79976080e9df"
      },
      "source": [
        "plt.plot(train_curve, label = 'Training')\n",
        "plt.plot(val_curve, label = 'Val')\n",
        "plt.ylabel('Loss')\n",
        "plt.xlabel('Epoch')\n",
        "plt.legend()"
      ],
      "execution_count": 27,
      "outputs": [
        {
          "output_type": "execute_result",
          "data": {
            "text/plain": [
              "<matplotlib.legend.Legend at 0x7f3a05ee9a10>"
            ]
          },
          "metadata": {
            "tags": []
          },
          "execution_count": 27
        },
        {
          "output_type": "display_data",
          "data": {
            "image/png": "[encoded data removed]",
            "text/plain": [
              "<Figure size 432x288 with 1 Axes>"
            ]
          },
          "metadata": {
            "tags": [],
            "needs_background": "light"
          }
        }
      ]
    },
    {
      "cell_type": "markdown",
      "metadata": {
        "id": "1Y-9KU3WMfUp"
      },
      "source": [
        "x\n",
        "\n",
        "## Report some translation samples and visualize theirattention matrices.  (Hint:  Check out the starter code – it already provides functionality for visual-izing attention weights.)  \n",
        "\n",
        "## Calculate the test BLEU [4] score of your model.  (Hint:  You can \u0018nd animplementation of BLEU in the starter code.)"
      ]
    },
    {
      "cell_type": "markdown",
      "metadata": {
        "id": "Dvk_UQeWEJIX"
      },
      "source": [
        "Finally, we load the parameters from our best validation loss and get our results on the test set.\n",
        "\n",
        "We get the improved test perplexity whilst almost being twice as fast!"
      ]
    },
    {
      "cell_type": "code",
      "metadata": {
        "colab": {
          "base_uri": "https://localhost:8080/"
        },
        "id": "IdUNJqaqEJIX",
        "outputId": "356e8020-1734-485c-ecee-edd5390117b0"
      },
      "source": [
        "model.load_state_dict(torch.load('tut4-model.pt'))\n",
        "\n",
        "test_loss = evaluate(model, test_iterator, criterion)\n",
        "\n",
        "print(f'| Test Loss: {test_loss:.3f} | Test PPL: {math.exp(test_loss):7.3f} |')"
      ],
      "execution_count": 28,
      "outputs": [
        {
          "output_type": "stream",
          "text": [
            "| Test Loss: 3.189 | Test PPL:  24.254 |\n"
          ],
          "name": "stdout"
        }
      ]
    },
    {
      "cell_type": "markdown",
      "metadata": {
        "id": "BYo-nfsHEJIY"
      },
      "source": [
        "## Inference\n",
        "\n",
        "Now we can use our trained model to generate translations.\n",
        "\n",
        "**Note:** these translations will be poor compared to examples shown in paper as they use hidden dimension sizes of 1000 and train for 4 days! They have been cherry picked in order to show off what attention should look like on a sufficiently sized model.\n",
        "\n",
        "Our `translate_sentence` will do the following:\n",
        "- ensure our model is in evaluation mode, which it should always be for inference\n",
        "- tokenize the source sentence if it has not been tokenized (is a string)\n",
        "- numericalize the source sentence\n",
        "- convert it to a tensor and add a batch dimension\n",
        "- get the length of the source sentence and convert to a tensor\n",
        "- feed the source sentence into the encoder\n",
        "- create the mask for the source sentence\n",
        "- create a list to hold the output sentence, initialized with an `<sos>` token\n",
        "- create a tensor to hold the attention values\n",
        "- while we have not hit a maximum length\n",
        "  - get the input tensor, which should be either `<sos>` or the last predicted token\n",
        "  - feed the input, all encoder outputs, hidden state and mask into the decoder\n",
        "  - store attention values\n",
        "  - get the predicted next token\n",
        "  - add prediction to current output sentence prediction\n",
        "  - break if the prediction was an `<eos>` token\n",
        "- convert the output sentence from indexes to tokens\n",
        "- return the output sentence (with the `<sos>` token removed) and the attention values over the sequence"
      ]
    },
    {
      "cell_type": "code",
      "metadata": {
        "id": "fxPaQxZQEJIY"
      },
      "source": [
        "def translate_sentence(sentence, src_field, trg_field, model, device, max_len = 50):\n",
        "\n",
        "    model.eval() # always in evaluation mode\n",
        "        \n",
        "    if isinstance(sentence, str): # tokenize the sentence if it is not yet\n",
        "        nlp = spacy.load('de')\n",
        "        tokens = [token.text.lower() for token in nlp(sentence)]\n",
        "    else:\n",
        "        tokens = [token.lower() for token in sentence]\n",
        "\n",
        "    tokens = [src_field.init_token] + tokens + [src_field.eos_token] # add <start> and <end>\n",
        "        \n",
        "    src_indexes = [src_field.vocab.stoi[token] for token in tokens]\n",
        "    \n",
        "    src_tensor = torch.LongTensor(src_indexes).unsqueeze(1).to(device) # add a batch dimension and make into tensoe\n",
        "\n",
        "    src_len = torch.LongTensor([len(src_indexes)])\n",
        "    \n",
        "    with torch.no_grad():\n",
        "        encoder_outputs, hidden = model.encoder(src_tensor, src_len)\n",
        "\n",
        "    mask = model.create_mask(src_tensor)\n",
        "        \n",
        "    trg_indexes = [trg_field.vocab.stoi[trg_field.init_token]]\n",
        "    \n",
        "    # save the attension values\n",
        "    attentions = torch.zeros(max_len, 1, len(src_indexes)).to(device) \n",
        "    log_likelihood = 0\n",
        "    \n",
        "    for i in range(max_len):\n",
        "\n",
        "        trg_tensor = torch.LongTensor([trg_indexes[-1]]).to(device)\n",
        "                \n",
        "        with torch.no_grad():\n",
        "            # the previous decode is fed into the next \n",
        "            output, hidden, attention = model.decoder(trg_tensor, hidden, encoder_outputs, mask) \n",
        "            \n",
        "        attentions[i] = attention\n",
        "            \n",
        "        pred_token = output.argmax(1).item() # greedy search\n",
        "\n",
        "        # calculate log likelihood score\n",
        "        softmax_lyr = nn.Softmax(dim=1)\n",
        "        \n",
        "        score = softmax_lyr(output)[0,pred_token].to('cpu').numpy()\n",
        "        log_likelihood += np.log(score)\n",
        "\n",
        "        \n",
        "        trg_indexes.append(pred_token)\n",
        "\n",
        "        if pred_token == trg_field.vocab.stoi[trg_field.eos_token]:\n",
        "            break\n",
        "    \n",
        "    trg_tokens = [trg_field.vocab.itos[i] for i in trg_indexes]\n",
        "    \n",
        "    return trg_tokens[1:], attentions[:len(trg_tokens)-1], log_likelihood"
      ],
      "execution_count": 29,
      "outputs": []
    },
    {
      "cell_type": "markdown",
      "metadata": {
        "id": "IiezAaAcEJIY"
      },
      "source": [
        "Next, we'll make a function that displays the model's attention over the source sentence for each target token generated."
      ]
    },
    {
      "cell_type": "code",
      "metadata": {
        "id": "inR78kcJEJIY"
      },
      "source": [
        "def display_attention(sentence, translation, attention):\n",
        "    \n",
        "    fig = plt.figure(figsize=(10,10))\n",
        "    ax = fig.add_subplot(111)\n",
        "    \n",
        "    attention = attention.squeeze(1).cpu().detach().numpy()\n",
        "    \n",
        "    cax = ax.matshow(attention, cmap='bone')\n",
        "   \n",
        "    ax.tick_params(labelsize=15)\n",
        "    \n",
        "    x_ticks = [''] + ['<sos>'] + [t.lower() for t in sentence] + ['<eos>']\n",
        "    y_ticks = [''] + translation\n",
        "     \n",
        "    ax.set_xticklabels(x_ticks, rotation=45)\n",
        "    ax.set_yticklabels(y_ticks)\n",
        "\n",
        "    ax.xaxis.set_major_locator(ticker.MultipleLocator(1))\n",
        "    ax.yaxis.set_major_locator(ticker.MultipleLocator(1))\n",
        "\n",
        "    plt.show()\n",
        "    plt.close()"
      ],
      "execution_count": 30,
      "outputs": []
    },
    {
      "cell_type": "markdown",
      "metadata": {
        "id": "GHPnZEEiEJIZ"
      },
      "source": [
        "Now, we'll grab some translations from our dataset and see how well our model did. Note, we're going to cherry pick examples here so it gives us something interesting to look at, but feel free to change the `example_idx` value to look at different examples.\n",
        "\n",
        "First, we'll get a source and target from our dataset."
      ]
    },
    {
      "cell_type": "code",
      "metadata": {
        "colab": {
          "base_uri": "https://localhost:8080/"
        },
        "id": "Ct0haxLSEJIZ",
        "outputId": "7be001a4-b857-401b-bf28-92fbd2d85307"
      },
      "source": [
        "example_idx = 12\n",
        "\n",
        "src = vars(train_data.examples[example_idx])['src'] # source\n",
        "trg = vars(train_data.examples[example_idx])['trg'] # target sentence\n",
        "\n",
        "print(f'src = {src}')\n",
        "print(f'trg = {trg}')"
      ],
      "execution_count": 31,
      "outputs": [
        {
          "output_type": "stream",
          "text": [
            "src = ['ein', 'schwarzer', 'hund', 'und', 'ein', 'gefleckter', 'hund', 'kämpfen', '.']\n",
            "trg = ['a', 'black', 'dog', 'and', 'a', 'spotted', 'dog', 'are', 'fighting']\n"
          ],
          "name": "stdout"
        }
      ]
    },
    {
      "cell_type": "markdown",
      "metadata": {
        "id": "gkFOrW2ZEJIZ"
      },
      "source": [
        "Then we'll use our `translate_sentence` function to get our predicted translation and attention. We show this graphically by having the source sentence on the x-axis and the predicted translation on the y-axis. The lighter the square at the intersection between two words, the more attention the model gave to that source word when translating that target word.\n",
        "\n",
        "Below is an example the model attempted to translate, it gets the translation correct except changes *are fighting* to just *fighting*."
      ]
    },
    {
      "cell_type": "code",
      "metadata": {
        "colab": {
          "base_uri": "https://localhost:8080/"
        },
        "id": "qwa6XXxVEJIZ",
        "outputId": "d045d432-2ebd-4d53-b007-aa3022efd4fb"
      },
      "source": [
        "translation, attention, L = translate_sentence(src, SRC, TRG, model, device)\n",
        "\n",
        "print(f'predicted trg = {translation}; logL = {L}')"
      ],
      "execution_count": 32,
      "outputs": [
        {
          "output_type": "stream",
          "text": [
            "predicted trg = ['a', 'black', 'dog', 'and', 'a', 'spotted', 'dog', 'fighting', '.', '<eos>']; logL = -3.0057593155652285\n"
          ],
          "name": "stdout"
        }
      ]
    },
    {
      "cell_type": "code",
      "metadata": {
        "colab": {
          "base_uri": "https://localhost:8080/",
          "height": 614
        },
        "id": "tX7eybX5EJIZ",
        "outputId": "d09ac08e-5416-4455-d625-f8450e13baa7"
      },
      "source": [
        "display_attention(src, translation, attention)"
      ],
      "execution_count": 33,
      "outputs": [
        {
          "output_type": "display_data",
          "data": {
            "image/png": "[encoded data removed]",
            "text/plain": [
              "<Figure size 720x720 with 1 Axes>"
            ]
          },
          "metadata": {
            "tags": [],
            "needs_background": "light"
          }
        }
      ]
    },
    {
      "cell_type": "markdown",
      "metadata": {
        "id": "PqLz57RsEJIZ"
      },
      "source": [
        "Translations from the training set could simply be memorized by the model. So it's only fair we look at translations from the validation and testing set too.\n",
        "\n",
        "Starting with the validation set, let's get an example."
      ]
    },
    {
      "cell_type": "code",
      "metadata": {
        "colab": {
          "base_uri": "https://localhost:8080/"
        },
        "id": "LnMtfB4uEJIa",
        "outputId": "38521304-e9b3-481a-ee40-bcfab9632573"
      },
      "source": [
        "example_idx = 14\n",
        "\n",
        "src = vars(valid_data.examples[example_idx])['src']\n",
        "trg = vars(valid_data.examples[example_idx])['trg']\n",
        "\n",
        "print(f'src = {src}')\n",
        "print(f'trg = {trg}')"
      ],
      "execution_count": 34,
      "outputs": [
        {
          "output_type": "stream",
          "text": [
            "src = ['eine', 'frau', 'spielt', 'ein', 'lied', 'auf', 'ihrer', 'geige', '.']\n",
            "trg = ['a', 'female', 'playing', 'a', 'song', 'on', 'her', 'violin', '.']\n"
          ],
          "name": "stdout"
        }
      ]
    },
    {
      "cell_type": "markdown",
      "metadata": {
        "id": "TcuZjcEEEJIa"
      },
      "source": [
        "Then let's generate our translation and view the attention.\n",
        "\n",
        "Here, we can see the translation is the same except for swapping *female* with *woman*."
      ]
    },
    {
      "cell_type": "code",
      "metadata": {
        "colab": {
          "base_uri": "https://localhost:8080/",
          "height": 614
        },
        "id": "OxoDq86FEJIa",
        "outputId": "deb86dd3-1526-4514-c8a4-90ef44275f66"
      },
      "source": [
        "translation, attention, L = translate_sentence(src, SRC, TRG, model, device)\n",
        "\n",
        "print(f'predicted trg = {translation}')\n",
        "\n",
        "display_attention(src, translation, attention)"
      ],
      "execution_count": 35,
      "outputs": [
        {
          "output_type": "stream",
          "text": [
            "predicted trg = ['a', 'woman', 'playing', 'a', 'song', 'on', 'her', 'violin', '.', '<eos>']\n"
          ],
          "name": "stdout"
        },
        {
          "output_type": "display_data",
          "data": {
            "image/png": "[encoded data removed]",
            "text/plain": [
              "<Figure size 720x720 with 1 Axes>"
            ]
          },
          "metadata": {
            "tags": [],
            "needs_background": "light"
          }
        }
      ]
    },
    {
      "cell_type": "markdown",
      "metadata": {
        "id": "p5tH-tLdEJIa"
      },
      "source": [
        "Finally, let's get an example from the test set."
      ]
    },
    {
      "cell_type": "code",
      "metadata": {
        "colab": {
          "base_uri": "https://localhost:8080/"
        },
        "id": "e4NnKWE2EJIb",
        "outputId": "813cffec-d2f8-4a76-86d5-1ef6f7bcc92d"
      },
      "source": [
        "example_idx = 99\n",
        "\n",
        "src = vars(test_data.examples[example_idx])['src']\n",
        "trg = vars(test_data.examples[example_idx])['trg']\n",
        "\n",
        "print(f'src = {src}')\n",
        "print(f'trg = {trg}')"
      ],
      "execution_count": 36,
      "outputs": [
        {
          "output_type": "stream",
          "text": [
            "src = ['ein', 'kleiner', 'junge', 'im', 'fußballdress', 'hält', 'die', 'hände', 'vors', 'gesicht', 'und', 'weint', '.']\n",
            "trg = ['a', 'young', 'boy', 'in', 'a', 'soccer', 'uniform', 'crying', 'into', 'his', 'palms', '.']\n"
          ],
          "name": "stdout"
        }
      ]
    },
    {
      "cell_type": "code",
      "metadata": {
        "colab": {
          "base_uri": "https://localhost:8080/",
          "height": 36
        },
        "id": "n0S3NM8kUkaL",
        "outputId": "51132888-aca3-4aba-98e4-25a5a7f2f3ae"
      },
      "source": [
        "' '.join(trg)"
      ],
      "execution_count": 54,
      "outputs": [
        {
          "output_type": "execute_result",
          "data": {
            "application/vnd.google.colaboratory.intrinsic+json": {
              "type": "string"
            },
            "text/plain": [
              "'a young boy in a soccer uniform crying into his palms .'"
            ]
          },
          "metadata": {
            "tags": []
          },
          "execution_count": 54
        }
      ]
    },
    {
      "cell_type": "markdown",
      "metadata": {
        "id": "rDDJ1tuQEJIb"
      },
      "source": [
        "Again, it produces a slightly different translation than target, a more literal version of the source sentence. It swaps *mountain climbing* for *climbing a mountain*."
      ]
    },
    {
      "cell_type": "code",
      "metadata": {
        "colab": {
          "base_uri": "https://localhost:8080/",
          "height": 675
        },
        "id": "7zLN7x0wEJIb",
        "outputId": "7807bee2-71d0-46c1-a5cb-a8634a3ef704"
      },
      "source": [
        "translation, attention, L = translate_sentence(src, SRC, TRG, model, device)\n",
        "\n",
        "print(f'predicted trg = {translation}')\n",
        "print(' '.join(translation))\n",
        "\n",
        "display_attention(src, translation, attention)"
      ],
      "execution_count": 38,
      "outputs": [
        {
          "output_type": "stream",
          "text": [
            "predicted trg = ['a', 'little', 'boy', 'in', 'in', 'karate', 'karate', 'is', 'holding', 'hands', 'and', 'crying', '.', '<eos>']\n",
            "a little boy in in karate karate is holding hands and crying . <eos>\n"
          ],
          "name": "stdout"
        },
        {
          "output_type": "display_data",
          "data": {
            "image/png": "[encoded data removed]",
            "text/plain": [
              "<Figure size 720x720 with 1 Axes>"
            ]
          },
          "metadata": {
            "tags": [],
            "needs_background": "light"
          }
        }
      ]
    },
    {
      "cell_type": "markdown",
      "metadata": {
        "id": "yzF5A6GyEJIb"
      },
      "source": [
        "## BLEU\n",
        "\n",
        "Previously we have only cared about the loss/perplexity of the model. However there metrics that are specifically designed for measuring the quality of a translation - the most popular is *BLEU*. Without going into too much detail, BLEU looks at the overlap in the predicted and actual target sequences in terms of their n-grams. It will give us a number between 0 and 1 for each sequence, where 1 means there is perfect overlap, i.e. a perfect translation, although is usually shown between 0 and 100. BLEU was designed for multiple candidate translations per source sequence, however in this dataset we only have one candidate per source.\n",
        "\n",
        "We define a `calculate_bleu` function which calculates the BLEU score over a provided TorchText dataset. This function creates a corpus of the actual and predicted translation for each source sentence and then calculates the BLEU score."
      ]
    },
    {
      "cell_type": "code",
      "metadata": {
        "id": "sJWIQ_6TEJIb"
      },
      "source": [
        "from torchtext.data.metrics import bleu_score\n",
        "\n",
        "def calculate_bleu(data, src_field, trg_field, model, device, max_len = 50, decoding_strategy = 'greedy', k = None, p = None):\n",
        "\n",
        "    all_L = []\n",
        "    trgs = []\n",
        "    pred_trgs = []\n",
        "    \n",
        "    for datum in data:\n",
        "        \n",
        "        src = vars(datum)['src']\n",
        "        trg = vars(datum)['trg']\n",
        "        \n",
        "        if decoding_strategy == 'greedy':\n",
        "          pred_trg, _, L = translate_sentence(src, src_field, trg_field, model, device, max_len)\n",
        "        elif decoding_strategy == 'beam':\n",
        "          pred_trg, _, L = translate_sentence_beam(src, src_field, trg_field, model, device, max_len, k = k)\n",
        "        elif decoding_strategy == 'nucleus':\n",
        "          pred_trg, _, L = translate_sentence_nucleus(src, src_field, trg_field, model, device, max_len, p = p)\n",
        "        all_L.append(L)\n",
        "        \n",
        "        #cut off <eos> token\n",
        "        pred_trg = pred_trg[:-1]\n",
        "        \n",
        "        pred_trgs.append(pred_trg)\n",
        "        trgs.append([trg])\n",
        "      \n",
        "    \n",
        "    return bleu_score(pred_trgs, trgs), all_L"
      ],
      "execution_count": 52,
      "outputs": []
    },
    {
      "cell_type": "markdown",
      "metadata": {
        "id": "UoDJX-HGEJIc"
      },
      "source": [
        "We get a BLEU of around 28. If we compare it to the paper that the attention model is attempting to replicate, they achieve a BLEU score of 26.75. This is similar to our score, however they are using a completely different dataset and their model size is much larger - 1000 hidden dimensions which takes 4 days to train! - so we cannot really compare against that either.\n",
        "\n",
        "This number isn't really interpretable, we can't really say much about it. The most useful part of a BLEU score is that it can be used to compare different models on the same dataset, where the one with the **higher** BLEU score is \"better\"."
      ]
    },
    {
      "cell_type": "code",
      "metadata": {
        "colab": {
          "base_uri": "https://localhost:8080/"
        },
        "id": "2p5Fb2P-EJIc",
        "outputId": "01d891e5-907d-4762-a470-83ff111c3baa"
      },
      "source": [
        "bleu_score_greedy, all_L = calculate_bleu(test_data, SRC, TRG, model, device)\n",
        "\n",
        "print(f'BLEU score = {bleu_score_greedy*100:.2f}')"
      ],
      "execution_count": 40,
      "outputs": [
        {
          "output_type": "stream",
          "text": [
            "<class 'list'>\n",
            "<class 'list'>\n",
            "BLEU score = 28.72\n"
          ],
          "name": "stdout"
        }
      ]
    },
    {
      "cell_type": "markdown",
      "metadata": {
        "id": "jlUoMU_HEJIc"
      },
      "source": [
        "In the next tutorials we will be moving away from using recurrent neural networks and start looking at other ways to construct sequence-to-sequence models. Specifically, in the next tutorial we will be using convolutional neural networks."
      ]
    },
    {
      "cell_type": "markdown",
      "metadata": {
        "id": "o0HKE6gyL6uS"
      },
      "source": [
        "# Beam Search"
      ]
    },
    {
      "cell_type": "code",
      "metadata": {
        "id": "4Cl2bpTkL43C"
      },
      "source": [
        "import copy\n",
        "class TranslationResult:\n",
        "    def __init__(self, pred_token, hidden, score):\n",
        "        self.index = [pred_token]\n",
        "        self.last_hidden_state = hidden\n",
        "        self.log_likelihood = np.log(score)\n",
        "        self.log_likelihood_norm = self.log_likelihood # penalize long sentence\n",
        "        self.is_eos = False\n",
        "    def extend(self, pred_token, hidden, score, trg_field):\n",
        "        self.index.append(pred_token)\n",
        "        self.last_hidden_state = hidden\n",
        "        self.log_likelihood += np.log(score)\n",
        "        self.log_likelihood_norm = self.log_likelihood/len(self.index)\n",
        "        if pred_token == trg_field.vocab.stoi[trg_field.eos_token]:\n",
        "           self.is_eos = True\n",
        "    def to_token(self, trg_field):\n",
        "        trg_tokens = [trg_field.vocab.itos[i] for i in self.index]\n",
        "\n",
        "        return trg_tokens\n",
        "def translate_sentence_beam(sentence, src_field, trg_field, model, device, max_len = 50, k=5):\n",
        "    ''' translate sentence using beam search instead of the greedy method '''\n",
        "\n",
        "    model.eval() # always in evaluation mode\n",
        "        \n",
        "    if isinstance(sentence, str): # tokenize the sentence if it is not yet\n",
        "        nlp = spacy.load('de')\n",
        "        tokens = [token.text.lower() for token in nlp(sentence)]\n",
        "    else:\n",
        "        tokens = [token.lower() for token in sentence]\n",
        "\n",
        "    tokens = [src_field.init_token] + tokens + [src_field.eos_token] # add <start> and <end>\n",
        "        \n",
        "    src_indexes = [src_field.vocab.stoi[token] for token in tokens]\n",
        "    \n",
        "    src_tensor = torch.LongTensor(src_indexes).unsqueeze(1).to(device) # add a batch dimension and make into tensoe\n",
        "\n",
        "    src_len = torch.LongTensor([len(src_indexes)])\n",
        "    \n",
        "    with torch.no_grad():\n",
        "        encoder_outputs, hidden = model.encoder(src_tensor, src_len)\n",
        "\n",
        "    mask = model.create_mask(src_tensor)\n",
        "        \n",
        "    trg_indexes = [trg_field.vocab.stoi[trg_field.init_token]]\n",
        "    \n",
        "    # save the attension values\n",
        "    attentions = torch.zeros(max_len, 1, len(src_indexes)).to(device) \n",
        "    \n",
        "    ############## BEAM SEARCH STARTS HERE ################\n",
        "    candidates = [TranslationResult(trg_indexes[-1], hidden, 1)]\n",
        "    \n",
        "    \n",
        "    for i in range(max_len): # for the first word all the way to the max length of the sentence\n",
        "      \n",
        "      cur_candidates = [] # current candidates for this iteration\n",
        "         \n",
        "         \n",
        "      for cand in candidates: # for all the top-k candidates, try to extend it\n",
        "          if cand.is_eos:\n",
        "              # if the sentence is done, don't do anything, directly append to current candidates\n",
        "              cur_candidates.append(cand)\n",
        "              \n",
        "          else:\n",
        "              # try to extend it!\n",
        "              \n",
        "              trg_tensor = torch.LongTensor([cand.index[-1]]).to(device)\n",
        "              \n",
        "              with torch.no_grad():\n",
        "                # feed the previous decode hidden state into the decode, get a new output vector and a new hidden state\n",
        "                output, hidden, attention = model.decoder(trg_tensor, cand.last_hidden_state, encoder_outputs, mask) \n",
        "\n",
        "                # find the top k next words, for every word, save its hidden state and update score\n",
        "                pred_token = torch.topk(output, k).indices\n",
        "                for token in pred_token.to('cpu').tolist()[0]:\n",
        "                    \n",
        "                    # the score is not softmax-ed\n",
        "                    softmax_lyr = nn.Softmax(dim = 1)\n",
        "                    score = softmax_lyr(output)[0,token].to('cpu').numpy()\n",
        "                    \n",
        "                    extended_cand = copy.deepcopy(cand)\n",
        "                    extended_cand.extend(token, hidden, score, trg_field) # score updated\n",
        "                    \n",
        "                    cur_candidates.append(extended_cand)\n",
        "        \n",
        "      # at the end of each iteration, keep only the top-k sentences\n",
        "      ordered = sorted(cur_candidates, key=lambda can:can.log_likelihood_norm, reverse = True) # ascending or descending\n",
        "      candidates = ordered[:k]\n",
        "\n",
        "      # if all sentences in the candidate already reached eos, there is no need to run the next iteration\n",
        "      if sum([c.is_eos for c in candidates]) == k:\n",
        "        break\n",
        "      ############## BEAM SEARCH STARTS HERE ################\n",
        "\n",
        "    return candidates[0].to_token(trg_field)[1:], candidates, candidates[0].log_likelihood"
      ],
      "execution_count": 42,
      "outputs": []
    },
    {
      "cell_type": "code",
      "metadata": {
        "id": "LOdoEr0qOjlI"
      },
      "source": [
        "# let try it out\n",
        "best_translation, bcand, best_L = translate_sentence_beam(src, SRC, TRG, model, device)"
      ],
      "execution_count": 43,
      "outputs": []
    },
    {
      "cell_type": "code",
      "metadata": {
        "colab": {
          "base_uri": "https://localhost:8080/"
        },
        "id": "2wufsXwBhCvO",
        "outputId": "1aa878f9-b9c5-4934-fab5-bc330d946d73"
      },
      "source": [
        "bcand[0].log_likelihood"
      ],
      "execution_count": 44,
      "outputs": [
        {
          "output_type": "execute_result",
          "data": {
            "text/plain": [
              "-16.137652712874115"
            ]
          },
          "metadata": {
            "tags": []
          },
          "execution_count": 44
        }
      ]
    },
    {
      "cell_type": "code",
      "metadata": {
        "colab": {
          "base_uri": "https://localhost:8080/"
        },
        "id": "vtmIEVW3iXV4",
        "outputId": "65033e36-ba7f-455d-cc91-3a5d0f696881"
      },
      "source": [
        "# print top candidates from beam search\n",
        "for cand in bcand:\n",
        "  print(' '.join(cand.to_token(TRG)))\n",
        "\n",
        "  # check output is softmaxed?"
      ],
      "execution_count": 45,
      "outputs": [
        {
          "output_type": "stream",
          "text": [
            "<sos> a little boy in the karate uniform is holding his hands and crying . <eos>\n",
            "<sos> a little boy in the karate uniform is holding his hands and crying . . <eos>\n",
            "<sos> a little boy in the karate uniform is holding his hands and cries . <eos>\n",
            "<sos> a little boy in the karate uniform is holding his hands and . <eos>\n",
            "<sos> a little boy in the karate uniform is holding his hands , and crying . <eos>\n"
          ],
          "name": "stdout"
        }
      ]
    },
    {
      "cell_type": "markdown",
      "metadata": {
        "id": "mK3HdSlllgka"
      },
      "source": [
        "# Nucleus sampling: top-p sampling"
      ]
    },
    {
      "cell_type": "code",
      "metadata": {
        "id": "C_T50Z1-ds8z"
      },
      "source": [
        "def translate_sentence_nucleus(sentence, src_field, trg_field, model, device, max_len = 50, p=0.5):\n",
        "    ''' translate sentence using nucleus sampling instead of the greedy method '''\n",
        "\n",
        "    model.eval() # always in evaluation mode\n",
        "        \n",
        "    if isinstance(sentence, str): # tokenize the sentence if it is not yet\n",
        "        nlp = spacy.load('de')\n",
        "        tokens = [token.text.lower() for token in nlp(sentence)]\n",
        "    else:\n",
        "        tokens = [token.lower() for token in sentence]\n",
        "\n",
        "    tokens = [src_field.init_token] + tokens + [src_field.eos_token] # add <start> and <end>\n",
        "        \n",
        "    src_indexes = [src_field.vocab.stoi[token] for token in tokens]\n",
        "    \n",
        "    src_tensor = torch.LongTensor(src_indexes).unsqueeze(1).to(device) # add a batch dimension and make into tensoe\n",
        "\n",
        "    src_len = torch.LongTensor([len(src_indexes)])\n",
        "    \n",
        "    with torch.no_grad():\n",
        "        encoder_outputs, hidden = model.encoder(src_tensor, src_len)\n",
        "\n",
        "    mask = model.create_mask(src_tensor)\n",
        "        \n",
        "    trg_indexes = [trg_field.vocab.stoi[trg_field.init_token]]\n",
        "    \n",
        "    # save the attension values\n",
        "    attentions = torch.zeros(max_len, 1, len(src_indexes)).to(device) \n",
        "    \n",
        "    \n",
        "    cand = TranslationResult(trg_indexes[-1], hidden, 1)\n",
        "    #print('trg index', trg_indexes[-1])\n",
        "    \n",
        "    for i in range(max_len):\n",
        "      #print('===iteration {} ===='.format(i))\n",
        "      cur_candidates = [] # current candidates\n",
        "         \n",
        "         \n",
        "      \n",
        "      if cand.is_eos:\n",
        "          # if the sentence is done, don't do anything\n",
        "          break\n",
        "      else:\n",
        "          # try to extend it!\n",
        "          #print('last cand index', cand.index[-1])\n",
        "          trg_tensor = torch.LongTensor([cand.index[-1]]).to(device)\n",
        "              \n",
        "          with torch.no_grad():\n",
        "              # the previous decode hidden state is fed into the next \n",
        "              output, hidden, attention = model.decoder(trg_tensor, cand.last_hidden_state, encoder_outputs, mask) \n",
        "\n",
        "              #attentions[i] = attention\n",
        "        \n",
        "              ####### NUCLEUS SAMPLING STARTS HERE ########\n",
        "              \n",
        "              # sort the token index based on the outputs\n",
        "              sorted_score, sorted_indices = torch.sort(output, descending=True)\n",
        "              # compute cumulative probability to find top-p\n",
        "              cum_probs = torch.cumsum(F.softmax(sorted_score, dim=-1), dim=-1)\n",
        "              \n",
        "              # find the index where it is contribute the top p distribution\n",
        "              if cum_probs.min()>p:\n",
        "                # only one, choose that one without hestitation\n",
        "                token = sorted_indices.to('cpu').numpy()[0][0]\n",
        "                \n",
        "                  \n",
        "              else:\n",
        "                pred_token = sorted_indices[cum_probs<p]\n",
        "                \n",
        "                # sample from the rescaled distribution\n",
        "                rescaled_prob = cum_probs[cum_probs<p]/cum_probs[cum_probs<p].sum()\n",
        "                chosen_index = np.random.choice(np.arange(0, pred_token.shape[0]), p=rescaled_prob.to('cpu').numpy())\n",
        "                token = pred_token.to('cpu').numpy()[chosen_index]\n",
        "              \n",
        "              ####### NUCLEUS SAMPLING ENDS HERE ########\n",
        "\n",
        "              # update the sentence just like what we did before\n",
        "              softmax_lyr = nn.Softmax(dim = 1)\n",
        "              score = softmax_lyr(output)[0,token].to('cpu').numpy()\n",
        "              \n",
        "              cand.extend(token, hidden, score, trg_field)\n",
        "    return cand.to_token(trg_field)[1:], cand, cand.log_likelihood"
      ],
      "execution_count": 46,
      "outputs": []
    },
    {
      "cell_type": "code",
      "metadata": {
        "colab": {
          "base_uri": "https://localhost:8080/"
        },
        "id": "fZnYKozkF6oS",
        "outputId": "ec8d8d71-be48-4fe4-d2e8-a2ae9fdbace5"
      },
      "source": [
        "# let try it out\n",
        "best_translation, bcand, best_L = translate_sentence_nucleus(src, SRC, TRG, model, device)\n",
        "print(' '.join(best_translation))"
      ],
      "execution_count": 47,
      "outputs": [
        {
          "output_type": "stream",
          "text": [
            "a little boy in in yellow is holding hands as his hands and . <eos>\n"
          ],
          "name": "stdout"
        }
      ]
    },
    {
      "cell_type": "markdown",
      "metadata": {
        "id": "CYMgVHd7CXIf"
      },
      "source": [
        "# Quantiative comparison: BLEU score and log likelihood"
      ]
    },
    {
      "cell_type": "code",
      "metadata": {
        "colab": {
          "base_uri": "https://localhost:8080/"
        },
        "id": "-UyHeYP9G4yN",
        "outputId": "0aa9101c-3413-463b-a0c4-042056344212"
      },
      "source": [
        "bleu_score_beam, all_L = calculate_bleu(test_data, SRC, TRG, model, device, decoding_strategy='beam', k = k)"
      ],
      "execution_count": 50,
      "outputs": [
        {
          "output_type": "stream",
          "text": [
            "a\n",
            "['a', 'man', 'in', 'an', 'orange', 'hat', 'welding', 'something', '.']\n"
          ],
          "name": "stdout"
        }
      ]
    },
    {
      "cell_type": "code",
      "metadata": {
        "colab": {
          "base_uri": "https://localhost:8080/",
          "height": 397
        },
        "id": "rgsXkcpsAyok",
        "outputId": "59fbec61-b938-4660-d1e1-205d8a4b2f48"
      },
      "source": [
        "# Try out BEAM SEARCH using different k!\n",
        "beam_bleu = {}\n",
        "all_L_beam = {}\n",
        "for k in [5,10, 15, 20]:\n",
        "  bleu_score_beam, all_L = calculate_bleu(test_data, SRC, TRG, model, device, decoding_strategy='beam', k = k)\n",
        "  # save results\n",
        "  beam_bleu[k] = bleu_score_beam\n",
        "  all_L_beam[k] = all_L\n"
      ],
      "execution_count": 53,
      "outputs": [
        {
          "output_type": "error",
          "ename": "KeyboardInterrupt",
          "evalue": "ignored",
          "traceback": [
            "\u001b[0;31m---------------------------------------------------------------------------\u001b[0m",
            "\u001b[0;31mKeyboardInterrupt\u001b[0m                         Traceback (most recent call last)",
            "\u001b[0;32m<ipython-input-53-c3fed476a2c4>\u001b[0m in \u001b[0;36m<module>\u001b[0;34m()\u001b[0m\n\u001b[1;32m      3\u001b[0m \u001b[0mall_L_beam\u001b[0m \u001b[0;34m=\u001b[0m \u001b[0;34m{\u001b[0m\u001b[0;34m}\u001b[0m\u001b[0;34m\u001b[0m\u001b[0;34m\u001b[0m\u001b[0m\n\u001b[1;32m      4\u001b[0m \u001b[0;32mfor\u001b[0m \u001b[0mk\u001b[0m \u001b[0;32min\u001b[0m \u001b[0;34m[\u001b[0m\u001b[0;36m5\u001b[0m\u001b[0;34m,\u001b[0m\u001b[0;36m10\u001b[0m\u001b[0;34m,\u001b[0m \u001b[0;36m15\u001b[0m\u001b[0;34m,\u001b[0m \u001b[0;36m20\u001b[0m\u001b[0;34m]\u001b[0m\u001b[0;34m:\u001b[0m\u001b[0;34m\u001b[0m\u001b[0;34m\u001b[0m\u001b[0m\n\u001b[0;32m----> 5\u001b[0;31m   \u001b[0mbleu_score_beam\u001b[0m\u001b[0;34m,\u001b[0m \u001b[0mall_L\u001b[0m \u001b[0;34m=\u001b[0m \u001b[0mcalculate_bleu\u001b[0m\u001b[0;34m(\u001b[0m\u001b[0mtest_data\u001b[0m\u001b[0;34m,\u001b[0m \u001b[0mSRC\u001b[0m\u001b[0;34m,\u001b[0m \u001b[0mTRG\u001b[0m\u001b[0;34m,\u001b[0m \u001b[0mmodel\u001b[0m\u001b[0;34m,\u001b[0m \u001b[0mdevice\u001b[0m\u001b[0;34m,\u001b[0m \u001b[0mdecoding_strategy\u001b[0m\u001b[0;34m=\u001b[0m\u001b[0;34m'beam'\u001b[0m\u001b[0;34m,\u001b[0m \u001b[0mk\u001b[0m \u001b[0;34m=\u001b[0m \u001b[0mk\u001b[0m\u001b[0;34m)\u001b[0m\u001b[0;34m\u001b[0m\u001b[0;34m\u001b[0m\u001b[0m\n\u001b[0m\u001b[1;32m      6\u001b[0m   \u001b[0;31m# save results\u001b[0m\u001b[0;34m\u001b[0m\u001b[0;34m\u001b[0m\u001b[0;34m\u001b[0m\u001b[0m\n\u001b[1;32m      7\u001b[0m   \u001b[0mbeam_bleu\u001b[0m\u001b[0;34m[\u001b[0m\u001b[0mk\u001b[0m\u001b[0;34m]\u001b[0m \u001b[0;34m=\u001b[0m \u001b[0mbleu_score_beam\u001b[0m\u001b[0;34m\u001b[0m\u001b[0;34m\u001b[0m\u001b[0m\n",
            "\u001b[0;32m<ipython-input-52-792c73cf21c0>\u001b[0m in \u001b[0;36mcalculate_bleu\u001b[0;34m(data, src_field, trg_field, model, device, max_len, decoding_strategy, k, p)\u001b[0m\n\u001b[1;32m     15\u001b[0m           \u001b[0mpred_trg\u001b[0m\u001b[0;34m,\u001b[0m \u001b[0m_\u001b[0m\u001b[0;34m,\u001b[0m \u001b[0mL\u001b[0m \u001b[0;34m=\u001b[0m \u001b[0mtranslate_sentence\u001b[0m\u001b[0;34m(\u001b[0m\u001b[0msrc\u001b[0m\u001b[0;34m,\u001b[0m \u001b[0msrc_field\u001b[0m\u001b[0;34m,\u001b[0m \u001b[0mtrg_field\u001b[0m\u001b[0;34m,\u001b[0m \u001b[0mmodel\u001b[0m\u001b[0;34m,\u001b[0m \u001b[0mdevice\u001b[0m\u001b[0;34m,\u001b[0m \u001b[0mmax_len\u001b[0m\u001b[0;34m)\u001b[0m\u001b[0;34m\u001b[0m\u001b[0;34m\u001b[0m\u001b[0m\n\u001b[1;32m     16\u001b[0m         \u001b[0;32melif\u001b[0m \u001b[0mdecoding_strategy\u001b[0m \u001b[0;34m==\u001b[0m \u001b[0;34m'beam'\u001b[0m\u001b[0;34m:\u001b[0m\u001b[0;34m\u001b[0m\u001b[0;34m\u001b[0m\u001b[0m\n\u001b[0;32m---> 17\u001b[0;31m           \u001b[0mpred_trg\u001b[0m\u001b[0;34m,\u001b[0m \u001b[0m_\u001b[0m\u001b[0;34m,\u001b[0m \u001b[0mL\u001b[0m \u001b[0;34m=\u001b[0m \u001b[0mtranslate_sentence_beam\u001b[0m\u001b[0;34m(\u001b[0m\u001b[0msrc\u001b[0m\u001b[0;34m,\u001b[0m \u001b[0msrc_field\u001b[0m\u001b[0;34m,\u001b[0m \u001b[0mtrg_field\u001b[0m\u001b[0;34m,\u001b[0m \u001b[0mmodel\u001b[0m\u001b[0;34m,\u001b[0m \u001b[0mdevice\u001b[0m\u001b[0;34m,\u001b[0m \u001b[0mmax_len\u001b[0m\u001b[0;34m,\u001b[0m \u001b[0mk\u001b[0m \u001b[0;34m=\u001b[0m \u001b[0mk\u001b[0m\u001b[0;34m)\u001b[0m\u001b[0;34m\u001b[0m\u001b[0;34m\u001b[0m\u001b[0m\n\u001b[0m\u001b[1;32m     18\u001b[0m         \u001b[0;32melif\u001b[0m \u001b[0mdecoding_strategy\u001b[0m \u001b[0;34m==\u001b[0m \u001b[0;34m'nucleus'\u001b[0m\u001b[0;34m:\u001b[0m\u001b[0;34m\u001b[0m\u001b[0;34m\u001b[0m\u001b[0m\n\u001b[1;32m     19\u001b[0m           \u001b[0mpred_trg\u001b[0m\u001b[0;34m,\u001b[0m \u001b[0m_\u001b[0m\u001b[0;34m,\u001b[0m \u001b[0mL\u001b[0m \u001b[0;34m=\u001b[0m \u001b[0mtranslate_sentence_nucleus\u001b[0m\u001b[0;34m(\u001b[0m\u001b[0msrc\u001b[0m\u001b[0;34m,\u001b[0m \u001b[0msrc_field\u001b[0m\u001b[0;34m,\u001b[0m \u001b[0mtrg_field\u001b[0m\u001b[0;34m,\u001b[0m \u001b[0mmodel\u001b[0m\u001b[0;34m,\u001b[0m \u001b[0mdevice\u001b[0m\u001b[0;34m,\u001b[0m \u001b[0mmax_len\u001b[0m\u001b[0;34m,\u001b[0m \u001b[0mp\u001b[0m \u001b[0;34m=\u001b[0m \u001b[0mp\u001b[0m\u001b[0;34m)\u001b[0m\u001b[0;34m\u001b[0m\u001b[0;34m\u001b[0m\u001b[0m\n",
            "\u001b[0;32m<ipython-input-42-a0b33d2a5059>\u001b[0m in \u001b[0;36mtranslate_sentence_beam\u001b[0;34m(sentence, src_field, trg_field, model, device, max_len, k)\u001b[0m\n\u001b[1;32m     75\u001b[0m \u001b[0;34m\u001b[0m\u001b[0m\n\u001b[1;32m     76\u001b[0m                     \u001b[0;31m# the score is not softmax-ed\u001b[0m\u001b[0;34m\u001b[0m\u001b[0;34m\u001b[0m\u001b[0;34m\u001b[0m\u001b[0m\n\u001b[0;32m---> 77\u001b[0;31m                     \u001b[0msoftmax_lyr\u001b[0m \u001b[0;34m=\u001b[0m \u001b[0mnn\u001b[0m\u001b[0;34m.\u001b[0m\u001b[0mSoftmax\u001b[0m\u001b[0;34m(\u001b[0m\u001b[0mdim\u001b[0m \u001b[0;34m=\u001b[0m \u001b[0;36m1\u001b[0m\u001b[0;34m)\u001b[0m\u001b[0;34m\u001b[0m\u001b[0;34m\u001b[0m\u001b[0m\n\u001b[0m\u001b[1;32m     78\u001b[0m                     \u001b[0mscore\u001b[0m \u001b[0;34m=\u001b[0m \u001b[0msoftmax_lyr\u001b[0m\u001b[0;34m(\u001b[0m\u001b[0moutput\u001b[0m\u001b[0;34m)\u001b[0m\u001b[0;34m[\u001b[0m\u001b[0;36m0\u001b[0m\u001b[0;34m,\u001b[0m\u001b[0mtoken\u001b[0m\u001b[0;34m]\u001b[0m\u001b[0;34m.\u001b[0m\u001b[0mto\u001b[0m\u001b[0;34m(\u001b[0m\u001b[0;34m'cpu'\u001b[0m\u001b[0;34m)\u001b[0m\u001b[0;34m.\u001b[0m\u001b[0mnumpy\u001b[0m\u001b[0;34m(\u001b[0m\u001b[0;34m)\u001b[0m\u001b[0;34m\u001b[0m\u001b[0;34m\u001b[0m\u001b[0m\n\u001b[1;32m     79\u001b[0m \u001b[0;34m\u001b[0m\u001b[0m\n",
            "\u001b[0;32m/usr/local/lib/python3.7/dist-packages/torch/nn/modules/activation.py\u001b[0m in \u001b[0;36m__init__\u001b[0;34m(self, dim)\u001b[0m\n\u001b[1;32m   1190\u001b[0m     \u001b[0;32mdef\u001b[0m \u001b[0m__init__\u001b[0m\u001b[0;34m(\u001b[0m\u001b[0mself\u001b[0m\u001b[0;34m,\u001b[0m \u001b[0mdim\u001b[0m\u001b[0;34m:\u001b[0m \u001b[0mOptional\u001b[0m\u001b[0;34m[\u001b[0m\u001b[0mint\u001b[0m\u001b[0;34m]\u001b[0m \u001b[0;34m=\u001b[0m \u001b[0;32mNone\u001b[0m\u001b[0;34m)\u001b[0m \u001b[0;34m->\u001b[0m \u001b[0;32mNone\u001b[0m\u001b[0;34m:\u001b[0m\u001b[0;34m\u001b[0m\u001b[0;34m\u001b[0m\u001b[0m\n\u001b[1;32m   1191\u001b[0m         \u001b[0msuper\u001b[0m\u001b[0;34m(\u001b[0m\u001b[0mSoftmax\u001b[0m\u001b[0;34m,\u001b[0m \u001b[0mself\u001b[0m\u001b[0;34m)\u001b[0m\u001b[0;34m.\u001b[0m\u001b[0m__init__\u001b[0m\u001b[0;34m(\u001b[0m\u001b[0;34m)\u001b[0m\u001b[0;34m\u001b[0m\u001b[0;34m\u001b[0m\u001b[0m\n\u001b[0;32m-> 1192\u001b[0;31m         \u001b[0mself\u001b[0m\u001b[0;34m.\u001b[0m\u001b[0mdim\u001b[0m \u001b[0;34m=\u001b[0m \u001b[0mdim\u001b[0m\u001b[0;34m\u001b[0m\u001b[0;34m\u001b[0m\u001b[0m\n\u001b[0m\u001b[1;32m   1193\u001b[0m \u001b[0;34m\u001b[0m\u001b[0m\n\u001b[1;32m   1194\u001b[0m     \u001b[0;32mdef\u001b[0m \u001b[0m__setstate__\u001b[0m\u001b[0;34m(\u001b[0m\u001b[0mself\u001b[0m\u001b[0;34m,\u001b[0m \u001b[0mstate\u001b[0m\u001b[0;34m)\u001b[0m\u001b[0;34m:\u001b[0m\u001b[0;34m\u001b[0m\u001b[0;34m\u001b[0m\u001b[0m\n",
            "\u001b[0;32m/usr/local/lib/python3.7/dist-packages/torch/nn/modules/module.py\u001b[0m in \u001b[0;36m__setattr__\u001b[0;34m(self, name, value)\u001b[0m\n\u001b[1;32m    948\u001b[0m             type(self).__name__, name))\n\u001b[1;32m    949\u001b[0m \u001b[0;34m\u001b[0m\u001b[0m\n\u001b[0;32m--> 950\u001b[0;31m     \u001b[0;32mdef\u001b[0m \u001b[0m__setattr__\u001b[0m\u001b[0;34m(\u001b[0m\u001b[0mself\u001b[0m\u001b[0;34m,\u001b[0m \u001b[0mname\u001b[0m\u001b[0;34m:\u001b[0m \u001b[0mstr\u001b[0m\u001b[0;34m,\u001b[0m \u001b[0mvalue\u001b[0m\u001b[0;34m:\u001b[0m \u001b[0mUnion\u001b[0m\u001b[0;34m[\u001b[0m\u001b[0mTensor\u001b[0m\u001b[0;34m,\u001b[0m \u001b[0;34m'Module'\u001b[0m\u001b[0;34m]\u001b[0m\u001b[0;34m)\u001b[0m \u001b[0;34m->\u001b[0m \u001b[0;32mNone\u001b[0m\u001b[0;34m:\u001b[0m\u001b[0;34m\u001b[0m\u001b[0;34m\u001b[0m\u001b[0m\n\u001b[0m\u001b[1;32m    951\u001b[0m         \u001b[0;32mdef\u001b[0m \u001b[0mremove_from\u001b[0m\u001b[0;34m(\u001b[0m\u001b[0;34m*\u001b[0m\u001b[0mdicts_or_sets\u001b[0m\u001b[0;34m)\u001b[0m\u001b[0;34m:\u001b[0m\u001b[0;34m\u001b[0m\u001b[0;34m\u001b[0m\u001b[0m\n\u001b[1;32m    952\u001b[0m             \u001b[0;32mfor\u001b[0m \u001b[0md\u001b[0m \u001b[0;32min\u001b[0m \u001b[0mdicts_or_sets\u001b[0m\u001b[0;34m:\u001b[0m\u001b[0;34m\u001b[0m\u001b[0;34m\u001b[0m\u001b[0m\n",
            "\u001b[0;31mKeyboardInterrupt\u001b[0m: "
          ]
        }
      ]
    },
    {
      "cell_type": "code",
      "metadata": {
        "colab": {
          "base_uri": "https://localhost:8080/"
        },
        "id": "V_6Mho5OB73r",
        "outputId": "3ac2a8dd-b825-4fc2-96a9-f95209557970"
      },
      "source": [
        "# Try out NUCLEUS SEARCH using different p!\n",
        "nucleus_bleu = {}\n",
        "all_L_nucleus = {}\n",
        "for p in [0.9, 0.7, 0.5, 0.1]:\n",
        "  bleu_score_nucleus, all_L = calculate_bleu(test_data, SRC, TRG, model, device, decoding_strategy='nucleus', p = p)\n",
        "  # save results\n",
        "  nucleus_bleu[p] = bleu_score_nucleus\n",
        "  all_L_nucleus[p] = all_L\n",
        "\n",
        "  print('p={}, bleu: {}, logL:{}'.format(p, bleu_score_nucleus, np.mean(all_L)))\n"
      ],
      "execution_count": 59,
      "outputs": [
        {
          "output_type": "stream",
          "text": [
            "p=0.9, bleu: 0.09503569453954697, logL:-49.232807533174636\n",
            "p=0.7, bleu: 0.2134645194576293, logL:-22.401506352659897\n",
            "p=0.5, bleu: 0.26564478926802965, logL:-14.373488900207565\n",
            "p=0.1, bleu: 0.28720312331749215, logL:-10.698638360048294\n"
          ],
          "name": "stdout"
        }
      ]
    },
    {
      "cell_type": "code",
      "metadata": {
        "id": "OXkiWIlfGYxy"
      },
      "source": [
        "bleu_score_greedy, all_L_greedy = calculate_bleu(test_data, SRC, TRG, model, device, decoding_strategy='greedy')\n"
      ],
      "execution_count": 57,
      "outputs": []
    },
    {
      "cell_type": "code",
      "metadata": {
        "colab": {
          "base_uri": "https://localhost:8080/",
          "height": 354
        },
        "id": "Z0OHlGidB4E1",
        "outputId": "a04c072f-a6e6-4d47-94b0-8e7afdafd346"
      },
      "source": [
        "# plot the log L eeeeha\n",
        "Ls = [all_L_greedy]+list(all_L_beam.values())+list(all_L_nucleus.values())\n",
        "lbls = ['greedy search'] + ['beam(k={})'.format(k) for k in all_L_beam.keys()]+ ['nucleus(p={})'.format(p) for p in all_L_nucleus.keys()]\n",
        "plt.boxplot(Ls)\n",
        "plt.xticks(list(range(1, len(Ls)+1)), \n",
        "           lbls,\n",
        "           rotation = 90)\n",
        "plt.ylabel('log L')\n",
        "plt.ylim(-100, 0)"
      ],
      "execution_count": 98,
      "outputs": [
        {
          "output_type": "execute_result",
          "data": {
            "text/plain": [
              "(-100.0, 0.0)"
            ]
          },
          "metadata": {
            "tags": []
          },
          "execution_count": 98
        },
        {
          "output_type": "display_data",
          "data": {
            "image/png": "[encoded data removed]",
            "text/plain": [
              "<Figure size 432x288 with 1 Axes>"
            ]
          },
          "metadata": {
            "tags": [],
            "needs_background": "light"
          }
        }
      ]
    },
    {
      "cell_type": "code",
      "metadata": {
        "colab": {
          "base_uri": "https://localhost:8080/",
          "height": 300
        },
        "id": "TJ6qb0N3aYHl",
        "outputId": "bf249934-8086-4a79-fc57-ab7043d720c1"
      },
      "source": [
        "median_L = [np.median(L) for L in Ls]\n",
        "Ldf = pd.DataFrame([median_L, lbls], index = ['logL', 'decoding']).T\n",
        "Ldf"
      ],
      "execution_count": 100,
      "outputs": [
        {
          "output_type": "execute_result",
          "data": {
            "text/html": [
              "<div>\n",
              "<style scoped>\n",
              "    .dataframe tbody tr th:only-of-type {\n",
              "        vertical-align: middle;\n",
              "    }\n",
              "\n",
              "    .dataframe tbody tr th {\n",
              "        vertical-align: top;\n",
              "    }\n",
              "\n",
              "    .dataframe thead th {\n",
              "        text-align: right;\n",
              "    }\n",
              "</style>\n",
              "<table border=\"1\" class=\"dataframe\">\n",
              "  <thead>\n",
              "    <tr style=\"text-align: right;\">\n",
              "      <th></th>\n",
              "      <th>logL</th>\n",
              "      <th>decoding</th>\n",
              "    </tr>\n",
              "  </thead>\n",
              "  <tbody>\n",
              "    <tr>\n",
              "      <th>0</th>\n",
              "      <td>-9.3074</td>\n",
              "      <td>greedy search</td>\n",
              "    </tr>\n",
              "    <tr>\n",
              "      <th>1</th>\n",
              "      <td>-8.63383</td>\n",
              "      <td>beam(k=5)</td>\n",
              "    </tr>\n",
              "    <tr>\n",
              "      <th>2</th>\n",
              "      <td>-8.61277</td>\n",
              "      <td>beam(k=10)</td>\n",
              "    </tr>\n",
              "    <tr>\n",
              "      <th>3</th>\n",
              "      <td>-8.63383</td>\n",
              "      <td>beam(k=15)</td>\n",
              "    </tr>\n",
              "    <tr>\n",
              "      <th>4</th>\n",
              "      <td>-43.1281</td>\n",
              "      <td>nucleus(p=0.9)</td>\n",
              "    </tr>\n",
              "    <tr>\n",
              "      <th>5</th>\n",
              "      <td>-18.9437</td>\n",
              "      <td>nucleus(p=0.7)</td>\n",
              "    </tr>\n",
              "    <tr>\n",
              "      <th>6</th>\n",
              "      <td>-11.9114</td>\n",
              "      <td>nucleus(p=0.5)</td>\n",
              "    </tr>\n",
              "    <tr>\n",
              "      <th>7</th>\n",
              "      <td>-9.3074</td>\n",
              "      <td>nucleus(p=0.1)</td>\n",
              "    </tr>\n",
              "  </tbody>\n",
              "</table>\n",
              "</div>"
            ],
            "text/plain": [
              "      logL        decoding\n",
              "0  -9.3074   greedy search\n",
              "1 -8.63383       beam(k=5)\n",
              "2 -8.61277      beam(k=10)\n",
              "3 -8.63383      beam(k=15)\n",
              "4 -43.1281  nucleus(p=0.9)\n",
              "5 -18.9437  nucleus(p=0.7)\n",
              "6 -11.9114  nucleus(p=0.5)\n",
              "7  -9.3074  nucleus(p=0.1)"
            ]
          },
          "metadata": {
            "tags": []
          },
          "execution_count": 100
        }
      ]
    },
    {
      "cell_type": "code",
      "metadata": {
        "colab": {
          "base_uri": "https://localhost:8080/",
          "height": 73
        },
        "id": "k_TgI__5axTD",
        "outputId": "abccb8e0-d4dc-4354-c2de-57e69acc84a1"
      },
      "source": [
        "Ldf.to_latex()"
      ],
      "execution_count": 101,
      "outputs": [
        {
          "output_type": "execute_result",
          "data": {
            "application/vnd.google.colaboratory.intrinsic+json": {
              "type": "string"
            },
            "text/plain": [
              "'\\\\begin{tabular}{lll}\\n\\\\toprule\\n{} &     logL &        decoding \\\\\\\\\\n\\\\midrule\\n0 &  -9.3074 &   greedy search \\\\\\\\\\n1 & -8.63383 &       beam(k=5) \\\\\\\\\\n2 & -8.61277 &      beam(k=10) \\\\\\\\\\n3 & -8.63383 &      beam(k=15) \\\\\\\\\\n4 & -43.1281 &  nucleus(p=0.9) \\\\\\\\\\n5 & -18.9437 &  nucleus(p=0.7) \\\\\\\\\\n6 & -11.9114 &  nucleus(p=0.5) \\\\\\\\\\n7 &  -9.3074 &  nucleus(p=0.1) \\\\\\\\\\n\\\\bottomrule\\n\\\\end{tabular}\\n'"
            ]
          },
          "metadata": {
            "tags": []
          },
          "execution_count": 101
        }
      ]
    },
    {
      "cell_type": "code",
      "metadata": {
        "colab": {
          "base_uri": "https://localhost:8080/"
        },
        "id": "tLM-aRDsJVEM",
        "outputId": "183cda45-6e52-4b21-c564-0da5bdf41c48"
      },
      "source": [
        "# print BLEU score\n",
        "import pandas as pd\n",
        "ndf = pd.DataFrame.from_dict(nucleus_bleu, orient = 'index', columns = ['BLEU'])\n",
        "ndf['type'] = 'nucleus'\n",
        "ndf['p'] = nucleus_bleu.keys()\n",
        "\n",
        "bdf = pd.DataFrame.from_dict(beam_bleu, orient = 'index', columns = ['BLEU'])\n",
        "bdf['type'] = 'beam'\n",
        "bdf['k'] = beam_bleu.keys()\n",
        "\n",
        "total = pd.concat([ndf, bdf])\n",
        "\n",
        "total = total.append({'BLEU':bleu_score_greedy, 'type':'greedy'}, ignore_index = True)\n",
        "\n",
        "print(total.reset_index())"
      ],
      "execution_count": 93,
      "outputs": [
        {
          "output_type": "stream",
          "text": [
            "   index      BLEU     type    p     k\n",
            "0      0  0.095036  nucleus  0.9   NaN\n",
            "1      1  0.213465  nucleus  0.7   NaN\n",
            "2      2  0.265645  nucleus  0.5   NaN\n",
            "3      3  0.287203  nucleus  0.1   NaN\n",
            "4      4  0.310584     beam  NaN   5.0\n",
            "5      5  0.312824     beam  NaN  10.0\n",
            "6      6  0.312854     beam  NaN  15.0\n",
            "7      7  0.287216   greedy  NaN   NaN\n"
          ],
          "name": "stdout"
        }
      ]
    },
    {
      "cell_type": "code",
      "metadata": {
        "colab": {
          "base_uri": "https://localhost:8080/",
          "height": 300
        },
        "id": "UiprshQUYAzP",
        "outputId": "bd140c29-dbf1-4699-a85b-dd74367d0a3b"
      },
      "source": [
        "total"
      ],
      "execution_count": 94,
      "outputs": [
        {
          "output_type": "execute_result",
          "data": {
            "text/html": [
              "<div>\n",
              "<style scoped>\n",
              "    .dataframe tbody tr th:only-of-type {\n",
              "        vertical-align: middle;\n",
              "    }\n",
              "\n",
              "    .dataframe tbody tr th {\n",
              "        vertical-align: top;\n",
              "    }\n",
              "\n",
              "    .dataframe thead th {\n",
              "        text-align: right;\n",
              "    }\n",
              "</style>\n",
              "<table border=\"1\" class=\"dataframe\">\n",
              "  <thead>\n",
              "    <tr style=\"text-align: right;\">\n",
              "      <th></th>\n",
              "      <th>BLEU</th>\n",
              "      <th>type</th>\n",
              "      <th>p</th>\n",
              "      <th>k</th>\n",
              "    </tr>\n",
              "  </thead>\n",
              "  <tbody>\n",
              "    <tr>\n",
              "      <th>0</th>\n",
              "      <td>0.095036</td>\n",
              "      <td>nucleus</td>\n",
              "      <td>0.9</td>\n",
              "      <td>NaN</td>\n",
              "    </tr>\n",
              "    <tr>\n",
              "      <th>1</th>\n",
              "      <td>0.213465</td>\n",
              "      <td>nucleus</td>\n",
              "      <td>0.7</td>\n",
              "      <td>NaN</td>\n",
              "    </tr>\n",
              "    <tr>\n",
              "      <th>2</th>\n",
              "      <td>0.265645</td>\n",
              "      <td>nucleus</td>\n",
              "      <td>0.5</td>\n",
              "      <td>NaN</td>\n",
              "    </tr>\n",
              "    <tr>\n",
              "      <th>3</th>\n",
              "      <td>0.287203</td>\n",
              "      <td>nucleus</td>\n",
              "      <td>0.1</td>\n",
              "      <td>NaN</td>\n",
              "    </tr>\n",
              "    <tr>\n",
              "      <th>4</th>\n",
              "      <td>0.310584</td>\n",
              "      <td>beam</td>\n",
              "      <td>NaN</td>\n",
              "      <td>5.0</td>\n",
              "    </tr>\n",
              "    <tr>\n",
              "      <th>5</th>\n",
              "      <td>0.312824</td>\n",
              "      <td>beam</td>\n",
              "      <td>NaN</td>\n",
              "      <td>10.0</td>\n",
              "    </tr>\n",
              "    <tr>\n",
              "      <th>6</th>\n",
              "      <td>0.312854</td>\n",
              "      <td>beam</td>\n",
              "      <td>NaN</td>\n",
              "      <td>15.0</td>\n",
              "    </tr>\n",
              "    <tr>\n",
              "      <th>7</th>\n",
              "      <td>0.287216</td>\n",
              "      <td>greedy</td>\n",
              "      <td>NaN</td>\n",
              "      <td>NaN</td>\n",
              "    </tr>\n",
              "  </tbody>\n",
              "</table>\n",
              "</div>"
            ],
            "text/plain": [
              "       BLEU     type    p     k\n",
              "0  0.095036  nucleus  0.9   NaN\n",
              "1  0.213465  nucleus  0.7   NaN\n",
              "2  0.265645  nucleus  0.5   NaN\n",
              "3  0.287203  nucleus  0.1   NaN\n",
              "4  0.310584     beam  NaN   5.0\n",
              "5  0.312824     beam  NaN  10.0\n",
              "6  0.312854     beam  NaN  15.0\n",
              "7  0.287216   greedy  NaN   NaN"
            ]
          },
          "metadata": {
            "tags": []
          },
          "execution_count": 94
        }
      ]
    },
    {
      "cell_type": "code",
      "metadata": {
        "colab": {
          "base_uri": "https://localhost:8080/",
          "height": 91
        },
        "id": "Ce7ytvnyXpHx",
        "outputId": "d51bb2a2-5c09-4838-9b10-9dde60e03928"
      },
      "source": [
        "total.reset_index().to_latex()"
      ],
      "execution_count": 95,
      "outputs": [
        {
          "output_type": "execute_result",
          "data": {
            "application/vnd.google.colaboratory.intrinsic+json": {
              "type": "string"
            },
            "text/plain": [
              "'\\\\begin{tabular}{lrrlrr}\\n\\\\toprule\\n{} &  index &      BLEU &     type &    p &     k \\\\\\\\\\n\\\\midrule\\n0 &      0 &  0.095036 &  nucleus &  0.9 &   NaN \\\\\\\\\\n1 &      1 &  0.213465 &  nucleus &  0.7 &   NaN \\\\\\\\\\n2 &      2 &  0.265645 &  nucleus &  0.5 &   NaN \\\\\\\\\\n3 &      3 &  0.287203 &  nucleus &  0.1 &   NaN \\\\\\\\\\n4 &      4 &  0.310584 &     beam &  NaN &   5.0 \\\\\\\\\\n5 &      5 &  0.312824 &     beam &  NaN &  10.0 \\\\\\\\\\n6 &      6 &  0.312854 &     beam &  NaN &  15.0 \\\\\\\\\\n7 &      7 &  0.287216 &   greedy &  NaN &   NaN \\\\\\\\\\n\\\\bottomrule\\n\\\\end{tabular}\\n'"
            ]
          },
          "metadata": {
            "tags": []
          },
          "execution_count": 95
        }
      ]
    },
    {
      "cell_type": "markdown",
      "metadata": {
        "id": "QHB5QBeCCcpH"
      },
      "source": [
        "# Qualitative comparison: using examples"
      ]
    },
    {
      "cell_type": "code",
      "metadata": {
        "id": "cQ1OZvUxClCm"
      },
      "source": [
        "def print_examples(example_idx = 99, k = 5, p = 0.9):\n",
        "  ''' print prediction results for all three types of decoding strategy '''\n",
        "\n",
        "  src = vars(test_data.examples[example_idx])['src']\n",
        "  trg = vars(test_data.examples[example_idx])['trg']\n",
        "  \n",
        "  ######## GREEDY ##############\n",
        "  translation, attention, L_g = translate_sentence(src, SRC, TRG, model, device)\n",
        "  ######## BEAM ##############\n",
        "  best_translation, bcand, best_L_b = translate_sentence_beam(src, SRC, TRG, model, device, k = k)\n",
        "  ######## NUCLEUS ##############\n",
        "  best_translation_nu, ncand, best_L_n = translate_sentence_nucleus(src, SRC, TRG, model, device, p = p)\n",
        "\n",
        "  print('SOURCE:', ' '.join(src))\n",
        "  print('TARGET:', ' '.join(trg))\n",
        "\n",
        "  print('GREEDY:', ' '.join(translation), 'logL = {}'.format(L_g))\n",
        "  print('BEAM:', ' '.join(best_translation), 'logL = {}'.format(best_L_b))\n",
        "  print('NUCLEUS:', ' '.join(best_translation_nu), 'logL = {}'.format(best_L_n))"
      ],
      "execution_count": 64,
      "outputs": []
    },
    {
      "cell_type": "code",
      "metadata": {
        "colab": {
          "base_uri": "https://localhost:8080/"
        },
        "id": "xDR7r5AWoAEh",
        "outputId": "f0caf179-ce13-4c7d-dd4d-448484feecac"
      },
      "source": [
        "print_examples(example_idx=18)"
      ],
      "execution_count": 65,
      "outputs": [
        {
          "output_type": "stream",
          "text": [
            "SOURCE: die person im gestreiften shirt klettert auf einen berg .\n",
            "TARGET: the person in the striped shirt is mountain climbing .\n",
            "GREEDY: the person in the striped shirt is climbing a mountain . <eos> logL = -3.3006774187088013\n",
            "BEAM: the person in the striped shirt is climbing on a mountain . <eos> logL = -3.545486107468605\n",
            "NUCLEUS: the person wearing the striped shirt is rock rock climbing . <eos> logL = -10.46605747193098\n"
          ],
          "name": "stdout"
        }
      ]
    },
    {
      "cell_type": "code",
      "metadata": {
        "colab": {
          "base_uri": "https://localhost:8080/"
        },
        "id": "bsaE6kAroGtx",
        "outputId": "ec3d47f3-e779-4ce7-9377-8fa16f7db82b"
      },
      "source": [
        "print_examples(example_idx=19)"
      ],
      "execution_count": 66,
      "outputs": [
        {
          "output_type": "stream",
          "text": [
            "SOURCE: zwei männer tun so als seien sie statuen , während frauen ihnen zusehen .\n",
            "TARGET: two men pretend to be statutes while women look on .\n",
            "GREEDY: two men cook like <unk> as they are while women look on . <eos> logL = -13.307515628635883\n",
            "BEAM: two men cook like <unk> as they are while women look on them . <eos> logL = -14.047521956264973\n",
            "NUCLEUS: two men doing an unseen smile as them listen watch them looks watching . <eos> logL = -50.857971496880054\n"
          ],
          "name": "stdout"
        }
      ]
    },
    {
      "cell_type": "code",
      "metadata": {
        "id": "inrr2UxlpyzY",
        "colab": {
          "base_uri": "https://localhost:8080/"
        },
        "outputId": "6a3b5f56-f60d-4d94-97ff-f2ca6f72d6dd"
      },
      "source": [
        "\n",
        "print_examples(example_idx=25)"
      ],
      "execution_count": 67,
      "outputs": [
        {
          "output_type": "stream",
          "text": [
            "SOURCE: eine frau in einem pinken pulli und einer schürze putzt einen tisch mit einem schwamm .\n",
            "TARGET: a woman in a pink sweater and an apron , cleaning a table with a sponge .\n",
            "GREEDY: a woman in a pink sweater and a apron is a a table with a glass . <eos> logL = -11.250983279198408\n",
            "BEAM: a woman in a pink sweater and a apron is a a table with a glass . <eos> logL = -11.250983279198408\n",
            "NUCLEUS: a woman a a light turtleneck lab dress with an apron signing from a beverage in with cardboard . <eos> logL = -63.193669848144054\n"
          ],
          "name": "stdout"
        }
      ]
    },
    {
      "cell_type": "code",
      "metadata": {
        "id": "WqLGsDiJzGUi"
      },
      "source": [
        "def print_examples_different_p(example_idx = 99):\n",
        "  ''' print prediction results for all three types of decoding strategy '''\n",
        "\n",
        "  src = vars(test_data.examples[example_idx])['src']\n",
        "  trg = vars(test_data.examples[example_idx])['trg']\n",
        "\n",
        "  print('SOURCE:', ' '.join(src))\n",
        "  print('TARGET:', ' '.join(trg))\n",
        "\n",
        "  \n",
        "  for p in [0.1, 0.3, 0.5, 0.7, 0.9]:\n",
        "    ######## NUCLEUS ##############\n",
        "    best_translation_nu, ncand, best_L_n = translate_sentence_nucleus(src, SRC, TRG, model, device, p = p)\n",
        "\n",
        "    \n",
        "    \n",
        "    print('NUCLEUS(p={}):'.format(p), ' '.join(best_translation_nu), 'logL = {}'.format(best_L_n))"
      ],
      "execution_count": 107,
      "outputs": []
    },
    {
      "cell_type": "code",
      "metadata": {
        "colab": {
          "base_uri": "https://localhost:8080/"
        },
        "id": "lz-MfDDVISfx",
        "outputId": "f5fc1058-15bb-4760-8c27-5da4febd1e02"
      },
      "source": [
        "print_examples_different_p(example_idx = 25)"
      ],
      "execution_count": 108,
      "outputs": [
        {
          "output_type": "stream",
          "text": [
            "SOURCE: eine frau in einem pinken pulli und einer schürze putzt einen tisch mit einem schwamm .\n",
            "TARGET: a woman in a pink sweater and an apron , cleaning a table with a sponge .\n",
            "NUCLEUS(p=0.1): a woman in a pink sweater and a apron is a a table with a glass . <eos> logL = -11.250983279198408\n",
            "NUCLEUS(p=0.3): a woman in a pink sweater and a apron is a a table with a glass . <eos> logL = -11.250983279198408\n",
            "NUCLEUS(p=0.5): a woman in a pink sweater and a apron is drinking a table with a a glass . <eos> logL = -13.510027807205915\n",
            "NUCLEUS(p=0.7): a woman in a pink sweater and a glass apron , apron writes a a of a coffee cup . <eos> logL = -29.213858377188444\n",
            "NUCLEUS(p=0.9): a woman wearing a purple hooded apron is using a cup beer <unk> jar of . with her room . <eos> logL = -67.60665921494365\n"
          ],
          "name": "stdout"
        }
      ]
    }
  ]
}