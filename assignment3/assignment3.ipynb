{
  "nbformat": 4,
  "nbformat_minor": 0,
  "metadata": {
    "accelerator": "GPU",
    "colab": {
      "name": "assignment3.ipynb",
      "provenance": [],
      "collapsed_sections": [],
      "authorship_tag": "ABX9TyNwOwkAIRAFRcDO3hno82y3",
      "include_colab_link": true
    },
    "kernelspec": {
      "display_name": "Python 3",
      "name": "python3"
    },
    "language_info": {
      "name": "python"
    }
  },
  "cells": [
    {
      "cell_type": "markdown",
      "metadata": {
        "id": "view-in-github",
        "colab_type": "text"
      },
      "source": [
        "<a href=\"https://colab.research.google.com/github/algaebrown/cse291spr21/blob/main/assignment3/assignment3.ipynb\" target=\"_parent\"><img src=\"https://colab.research.google.com/assets/colab-badge.svg\" alt=\"Open In Colab\"/></a>"
      ]
    },
    {
      "cell_type": "code",
      "metadata": {
        "colab": {
          "base_uri": "https://localhost:8080/"
        },
        "id": "pg1l7a7qkZxu",
        "outputId": "a2f636d7-d486-4914-c080-228d4a192644"
      },
      "source": [
        "from google.colab import drive\n",
        "drive.mount('/content/gdrive')"
      ],
      "execution_count": null,
      "outputs": [
        {
          "output_type": "stream",
          "text": [
            "Drive already mounted at /content/gdrive; to attempt to forcibly remount, call drive.mount(\"/content/gdrive\", force_remount=True).\n"
          ],
          "name": "stdout"
        }
      ]
    },
    {
      "cell_type": "code",
      "metadata": {
        "colab": {
          "base_uri": "https://localhost:8080/"
        },
        "id": "IH-irm6iks6o",
        "outputId": "af0ca8bd-bf8a-4ca6-8923-a3b414376458"
      },
      "source": [
        "% cd gdrive/MyDrive/cse291_nlp/cse291spr21/assignment3/"
      ],
      "execution_count": null,
      "outputs": [
        {
          "output_type": "stream",
          "text": [
            "/content/gdrive/MyDrive/cse291_nlp/cse291spr21/assignment3\n"
          ],
          "name": "stdout"
        }
      ]
    },
    {
      "cell_type": "code",
      "metadata": {
        "id": "G0IlnOL5dbiR"
      },
      "source": [
        ""
      ],
      "execution_count": null,
      "outputs": []
    },
    {
      "cell_type": "code",
      "metadata": {
        "colab": {
          "base_uri": "https://localhost:8080/"
        },
        "id": "7uKTwPtfk5Lp",
        "outputId": "cfafc1d9-8b68-43e7-d742-407f1cedc887"
      },
      "source": [
        "\n",
        "#!pip install opt_einsum graphviz stanza\n",
        "!python main.py --batch-size 128 --data data/PTB_LE10/ --save_path le_model_1 --draw_pred True"
      ],
      "execution_count": 14,
      "outputs": [
        {
          "output_type": "stream",
          "text": [
            "Building the fields\n",
            "Namespace(batch_size=128, bos_index=2, buckets=32, clip=5.0, data='data/PTB_LE10/', delete={'', '?', '!', ',', '.', 'S1', 'TOP', '``', ':', \"''\", '-NONE-'}, dev='data/PTB_LE10/dev.pid', device='cuda', draw_pred=True, embed=None, encoder='lstm', eos_index=3, epochs=10, eps=1e-12, equal={'ADVP': 'PRT'}, feat=None, lr=0.002, max_len=None, mbr=True, mu=0.9, n_embed=100, n_labels=59, n_lstm_hidden=200, n_lstm_layers=2, n_tags=46, n_words=1331, nu=0.9, pad_index=0, save_path='le_model_1', test='data/PTB_LE10/test.pid', train='data/PTB_LE10/train.pid', unk='unk', unk_index=1, weight_decay=1e-05)\n",
            "Building the model\n",
            "Model(\n",
            "  (word_embed): Embedding(1331, 100)\n",
            "  (tag_embed): Embedding(46, 100)\n",
            "  (embed_dropout): Dropout(p=0.33, inplace=False)\n",
            "  (encoder): LSTM(200, 200, num_layers=2, dropout=0.33, bidirectional=True)\n",
            "  (encoder_dropout): Dropout(p=0.33, inplace=False)\n",
            "  (mlp_l): MLP(n_in=400, n_out=100, dropout=0.33)\n",
            "  (mlp_r): MLP(n_in=400, n_out=100, dropout=0.33)\n",
            "  (feat_biaffine): Biaffine(n_in=100, n_out=59, bias_x=True, bias_y=True)\n",
            "  (crf): CRFConstituency()\n",
            "  (criterion): CrossEntropyLoss()\n",
            ")\n",
            "\n",
            "train: Dataset(n_sentences=2000, n_batches=146, n_buckets=10)\n",
            "dev:   Dataset(n_sentences=163, n_batches=15, n_buckets=10)\n",
            "test:  Dataset(n_sentences=270, n_batches=18, n_buckets=10)\n",
            "\n",
            "Epoch 1 / 10:\n",
            "0 iter of epoch 1, loss: 8.0984\n",
            "50 iter of epoch 1, loss: 2.2746\n",
            "100 iter of epoch 1, loss: 1.2413\n",
            "dev:  loss: 1.2386 - UCM: 44.79% LCM: 43.56% UP: 87.56% UR: 84.46% UF: 85.98% LP: 83.88% LR: 80.91% LF: 82.37%\n",
            "Epoch 1 saved\n",
            "dev:  UCM: 44.79% LCM: 43.56% UP: 87.56% UR: 84.46% UF: 85.98% LP: 83.88% LR: 80.91% LF: 82.37%\n",
            "0:00:02.591477s elapsed, 0:00:02.591477s/epoch\n",
            "Epoch 2 / 10:\n",
            "0 iter of epoch 2, loss: 0.6297\n",
            "50 iter of epoch 2, loss: 0.8611\n",
            "100 iter of epoch 2, loss: 0.8597\n",
            "dev:  loss: 1.1418 - UCM: 55.21% LCM: 52.15% UP: 89.69% UR: 88.37% UF: 89.03% LP: 86.46% LR: 85.19% LF: 85.82%\n",
            "Epoch 2 saved\n",
            "dev:  UCM: 55.21% LCM: 52.15% UP: 89.69% UR: 88.37% UF: 89.03% LP: 86.46% LR: 85.19% LF: 85.82%\n",
            "0:00:05.158525s elapsed, 0:00:02.579262s/epoch\n",
            "Epoch 3 / 10:\n",
            "0 iter of epoch 3, loss: 1.1659\n",
            "50 iter of epoch 3, loss: 0.5944\n",
            "100 iter of epoch 3, loss: 0.6949\n",
            "dev:  loss: 0.8529 - UCM: 63.19% LCM: 59.51% UP: 92.15% UR: 93.39% UF: 92.77% LP: 88.89% LR: 90.09% LF: 89.48%\n",
            "Epoch 3 saved\n",
            "dev:  UCM: 63.19% LCM: 59.51% UP: 92.15% UR: 93.39% UF: 92.77% LP: 88.89% LR: 90.09% LF: 89.48%\n",
            "0:00:07.681869s elapsed, 0:00:02.560623s/epoch\n",
            "Epoch 4 / 10:\n",
            "0 iter of epoch 4, loss: 0.5674\n",
            "50 iter of epoch 4, loss: 0.7203\n",
            "100 iter of epoch 4, loss: 0.8442\n",
            "dev:  loss: 0.9065 - UCM: 61.96% LCM: 59.51% UP: 93.41% UR: 91.92% UF: 92.66% LP: 90.42% LR: 88.98% LF: 89.70%\n",
            "Epoch 4 saved\n",
            "dev:  UCM: 61.96% LCM: 59.51% UP: 93.41% UR: 91.92% UF: 92.66% LP: 90.42% LR: 88.98% LF: 89.70%\n",
            "0:00:10.306442s elapsed, 0:00:02.576610s/epoch\n",
            "Epoch 5 / 10:\n",
            "0 iter of epoch 5, loss: 0.4773\n",
            "50 iter of epoch 5, loss: 0.7945\n",
            "100 iter of epoch 5, loss: 1.1549\n",
            "dev:  loss: 0.8030 - UCM: 65.64% LCM: 62.58% UP: 93.87% UR: 93.76% UF: 93.82% LP: 90.81% LR: 90.70% LF: 90.75%\n",
            "Epoch 5 saved\n",
            "dev:  UCM: 65.64% LCM: 62.58% UP: 93.87% UR: 93.76% UF: 93.82% LP: 90.81% LR: 90.70% LF: 90.75%\n",
            "0:00:12.834202s elapsed, 0:00:02.566840s/epoch\n",
            "Epoch 6 / 10:\n",
            "0 iter of epoch 6, loss: 0.5222\n",
            "50 iter of epoch 6, loss: 1.4936\n",
            "100 iter of epoch 6, loss: 0.6867\n",
            "dev:  loss: 0.8358 - UCM: 69.94% LCM: 68.10% UP: 94.33% UR: 93.76% UF: 94.05% LP: 91.01% LR: 90.45% LF: 90.73%\n",
            "Epoch 5 saved\n",
            "dev:  UCM: 65.64% LCM: 62.58% UP: 93.87% UR: 93.76% UF: 93.82% LP: 90.81% LR: 90.70% LF: 90.75%\n",
            "0:00:15.537526s elapsed, 0:00:02.589588s/epoch\n",
            "Epoch 7 / 10:\n",
            "0 iter of epoch 7, loss: 0.3420\n",
            "50 iter of epoch 7, loss: 0.6460\n",
            "100 iter of epoch 7, loss: 0.7815\n",
            "dev:  loss: 0.8117 - UCM: 66.87% LCM: 65.64% UP: 94.00% UR: 94.00% UF: 94.00% LP: 90.94% LR: 90.94% LF: 90.94%\n",
            "Epoch 7 saved\n",
            "dev:  UCM: 66.87% LCM: 65.64% UP: 94.00% UR: 94.00% UF: 94.00% LP: 90.94% LR: 90.94% LF: 90.94%\n",
            "0:00:18.115444s elapsed, 0:00:02.587921s/epoch\n",
            "Epoch 8 / 10:\n",
            "0 iter of epoch 8, loss: 0.6677\n",
            "50 iter of epoch 8, loss: 0.1506\n",
            "100 iter of epoch 8, loss: 0.3626\n",
            "dev:  loss: 0.8868 - UCM: 66.26% LCM: 65.03% UP: 92.67% UR: 92.90% UF: 92.79% LP: 90.23% LR: 90.45% LF: 90.34%\n",
            "Epoch 7 saved\n",
            "dev:  UCM: 66.87% LCM: 65.64% UP: 94.00% UR: 94.00% UF: 94.00% LP: 90.94% LR: 90.94% LF: 90.94%\n",
            "0:00:20.708795s elapsed, 0:00:02.588599s/epoch\n",
            "Epoch 9 / 10:\n",
            "0 iter of epoch 9, loss: 0.4186\n",
            "50 iter of epoch 9, loss: 0.2709\n",
            "100 iter of epoch 9, loss: 0.5941\n",
            "dev:  loss: 0.8152 - UCM: 67.48% LCM: 65.64% UP: 92.82% UR: 93.39% UF: 93.11% LP: 90.39% LR: 90.94% LF: 90.67%\n",
            "Epoch 7 saved\n",
            "dev:  UCM: 66.87% LCM: 65.64% UP: 94.00% UR: 94.00% UF: 94.00% LP: 90.94% LR: 90.94% LF: 90.94%\n",
            "0:00:23.250595s elapsed, 0:00:02.583399s/epoch\n",
            "Epoch 10 / 10:\n",
            "0 iter of epoch 10, loss: 0.8704\n",
            "50 iter of epoch 10, loss: 0.6777\n",
            "100 iter of epoch 10, loss: 0.1725\n",
            "dev:  loss: 0.9636 - UCM: 65.64% LCM: 65.64% UP: 93.39% UR: 93.39% UF: 93.39% LP: 90.82% LR: 90.82% LF: 90.82%\n",
            "Epoch 7 saved\n",
            "dev:  UCM: 66.87% LCM: 65.64% UP: 94.00% UR: 94.00% UF: 94.00% LP: 90.94% LR: 90.94% LF: 90.94%\n",
            "0:00:25.901319s elapsed, 0:00:02.590132s/epoch\n",
            "2\n",
            "Traceback (most recent call last):\n",
            "  File \"main.py\", line 721, in <module>\n",
            "    predict(model, testdata.loader, setname = 'test')\n",
            "  File \"/usr/local/lib/python3.7/dist-packages/torch/autograd/grad_mode.py\", line 27, in decorate_context\n",
            "    return func(*args, **kwargs)\n",
            "  File \"main.py\", line 636, in predict\n",
            "    ptree = preds[0]._pformat_flat(\"\", \"()\", False)\n",
            "KeyError: 0\n"
          ],
          "name": "stdout"
        }
      ]
    },
    {
      "cell_type": "code",
      "metadata": {
        "id": "HiIu9b8mA-8m",
        "colab": {
          "base_uri": "https://localhost:8080/"
        },
        "outputId": "bfcfa444-4a63-40f8-83b8-452b98a57e94"
      },
      "source": [
        "!git commit -m \"implement inside\""
      ],
      "execution_count": 17,
      "outputs": [
        {
          "output_type": "stream",
          "text": [
            "\n",
            "*** Please tell me who you are.\n",
            "\n",
            "Run\n",
            "\n",
            "  git config --global user.email \"you@example.com\"\n",
            "  git config --global user.name \"Your Name\"\n",
            "\n",
            "to set your account's default identity.\n",
            "Omit --global to set the identity only in this repository.\n",
            "\n",
            "fatal: unable to auto-detect email address (got 'root@bbdc5d264aa8.(none)')\n"
          ],
          "name": "stdout"
        }
      ]
    },
    {
      "cell_type": "code",
      "metadata": {
        "colab": {
          "background_save": true,
          "base_uri": "https://localhost:8080/"
        },
        "id": "IIOB1JWp5Nv6",
        "outputId": "fce9997f-a464-4660-fa93-d91b32d458d2"
      },
      "source": [
        "\n",
        "#!pip install opt_einsum graphviz stanza\n",
        "!python main.py --batch-size 128 --data data/PTB_first_2000/ --save_path 2000_model_1 --draw_pred True\n",
        "!mkdir 2000_model\n",
        "!mv *.png 2000_model/"
      ],
      "execution_count": null,
      "outputs": [
        {
          "output_type": "stream",
          "text": [
            "Building the fields\n",
            "Namespace(batch_size=128, bos_index=2, buckets=32, clip=5.0, data='data/PTB_first_2000/', delete={\"''\", '', '.', 'S1', '?', '!', '-NONE-', ':', ',', '``', 'TOP'}, dev='data/PTB_first_2000/dev.pid', device='cuda', draw_pred=True, embed=None, encoder='lstm', eos_index=3, epochs=10, eps=1e-12, equal={'ADVP': 'PRT'}, feat=None, lr=0.002, max_len=None, mbr=True, mu=0.9, n_embed=100, n_labels=71, n_lstm_hidden=200, n_lstm_layers=2, n_tags=45, n_words=3511, nu=0.9, pad_index=0, save_path='2000_model_1', test='data/PTB_first_2000/test.pid', train='data/PTB_first_2000/train.pid', unk='unk', unk_index=1, weight_decay=1e-05)\n",
            "Building the model\n",
            "Model(\n",
            "  (word_embed): Embedding(3511, 100)\n",
            "  (tag_embed): Embedding(45, 100)\n",
            "  (embed_dropout): Dropout(p=0.33, inplace=False)\n",
            "  (encoder): LSTM(200, 200, num_layers=2, dropout=0.33, bidirectional=True)\n",
            "  (encoder_dropout): Dropout(p=0.33, inplace=False)\n",
            "  (mlp_l): MLP(n_in=400, n_out=100, dropout=0.33)\n",
            "  (mlp_r): MLP(n_in=400, n_out=100, dropout=0.33)\n",
            "  (feat_biaffine): Biaffine(n_in=100, n_out=71, bias_x=True, bias_y=True)\n",
            "  (crf): CRFConstituency()\n",
            "  (criterion): CrossEntropyLoss()\n",
            ")\n",
            "\n",
            "train: Dataset(n_sentences=2000, n_batches=409, n_buckets=32)\n",
            "dev:   Dataset(n_sentences=1700, n_batches=340, n_buckets=32)\n",
            "test:  Dataset(n_sentences=2416, n_batches=484, n_buckets=32)\n",
            "\n",
            "Epoch 1 / 10:\n",
            "0 iter of epoch 1, loss: 9.1164\n",
            "50 iter of epoch 1, loss: 2.6375\n",
            "100 iter of epoch 1, loss: 2.1604\n",
            "150 iter of epoch 1, loss: 1.0231\n",
            "200 iter of epoch 1, loss: 1.0004\n",
            "250 iter of epoch 1, loss: 1.4153\n",
            "300 iter of epoch 1, loss: 1.2424\n",
            "350 iter of epoch 1, loss: 0.9279\n",
            "400 iter of epoch 1, loss: 1.0599\n",
            "dev:  loss: 1.2090 - UCM: 11.82% LCM:  9.71% UP: 78.98% UR: 80.55% UF: 79.76% LP: 76.50% LR: 78.01% LF: 77.25%\n",
            "Epoch 1 saved\n",
            "dev:  UCM: 11.82% LCM:  9.71% UP: 78.98% UR: 80.55% UF: 79.76% LP: 76.50% LR: 78.01% LF: 77.25%\n",
            "0:00:31.442386s elapsed, 0:00:31.442386s/epoch\n",
            "Epoch 2 / 10:\n",
            "0 iter of epoch 2, loss: 1.3400\n",
            "50 iter of epoch 2, loss: 1.2711\n",
            "100 iter of epoch 2, loss: 1.6928\n",
            "150 iter of epoch 2, loss: 1.5657\n",
            "200 iter of epoch 2, loss: 2.4106\n",
            "250 iter of epoch 2, loss: 1.2090\n",
            "300 iter of epoch 2, loss: 0.9208\n",
            "350 iter of epoch 2, loss: 1.2975\n",
            "400 iter of epoch 2, loss: 1.2657\n",
            "dev:  loss: 1.0442 - UCM: 13.47% LCM: 12.24% UP: 80.82% UR: 83.90% UF: 82.33% LP: 78.62% LR: 81.61% LF: 80.09%\n",
            "Epoch 2 saved\n",
            "dev:  UCM: 13.47% LCM: 12.24% UP: 80.82% UR: 83.90% UF: 82.33% LP: 78.62% LR: 81.61% LF: 80.09%\n",
            "0:01:02.547601s elapsed, 0:00:31.273800s/epoch\n",
            "Epoch 3 / 10:\n",
            "0 iter of epoch 3, loss: 0.9997\n",
            "50 iter of epoch 3, loss: 0.7458\n",
            "100 iter of epoch 3, loss: 0.6708\n",
            "150 iter of epoch 3, loss: 0.8815\n",
            "200 iter of epoch 3, loss: 0.8528\n",
            "250 iter of epoch 3, loss: 1.1357\n",
            "300 iter of epoch 3, loss: 0.6047\n",
            "350 iter of epoch 3, loss: 0.5778\n",
            "400 iter of epoch 3, loss: 1.0450\n",
            "dev:  loss: 1.0559 - UCM: 14.88% LCM: 13.24% UP: 82.45% UR: 83.96% UF: 83.20% LP: 80.52% LR: 82.00% LF: 81.26%\n",
            "Epoch 3 saved\n",
            "dev:  UCM: 14.88% LCM: 13.24% UP: 82.45% UR: 83.96% UF: 83.20% LP: 80.52% LR: 82.00% LF: 81.26%\n",
            "0:01:33.604538s elapsed, 0:00:31.201513s/epoch\n",
            "Epoch 4 / 10:\n",
            "0 iter of epoch 4, loss: 0.8592\n",
            "50 iter of epoch 4, loss: 1.0637\n",
            "100 iter of epoch 4, loss: 1.2885\n",
            "150 iter of epoch 4, loss: 0.5944\n",
            "200 iter of epoch 4, loss: 0.8581\n",
            "250 iter of epoch 4, loss: 0.6855\n",
            "300 iter of epoch 4, loss: 0.5415\n",
            "350 iter of epoch 4, loss: 0.6604\n",
            "400 iter of epoch 4, loss: 1.8048\n",
            "dev:  loss: 1.0263 - UCM: 14.41% LCM: 13.29% UP: 82.03% UR: 85.07% UF: 83.52% LP: 80.21% LR: 83.17% LF: 81.66%\n",
            "Epoch 4 saved\n",
            "dev:  UCM: 14.41% LCM: 13.29% UP: 82.03% UR: 85.07% UF: 83.52% LP: 80.21% LR: 83.17% LF: 81.66%\n",
            "0:02:04.661844s elapsed, 0:00:31.165461s/epoch\n",
            "Epoch 5 / 10:\n",
            "0 iter of epoch 5, loss: 1.7433\n",
            "50 iter of epoch 5, loss: 0.5747\n",
            "100 iter of epoch 5, loss: 1.6216\n",
            "150 iter of epoch 5, loss: 0.8284\n",
            "200 iter of epoch 5, loss: 0.6339\n",
            "250 iter of epoch 5, loss: 0.6509\n",
            "300 iter of epoch 5, loss: 0.6623\n",
            "350 iter of epoch 5, loss: 1.3244\n",
            "400 iter of epoch 5, loss: 1.2000\n",
            "dev:  loss: 0.9547 - UCM: 16.94% LCM: 15.47% UP: 83.32% UR: 86.04% UF: 84.65% LP: 81.44% LR: 84.10% LF: 82.75%\n",
            "Epoch 5 saved\n",
            "dev:  UCM: 16.94% LCM: 15.47% UP: 83.32% UR: 86.04% UF: 84.65% LP: 81.44% LR: 84.10% LF: 82.75%\n",
            "0:02:35.777436s elapsed, 0:00:31.155487s/epoch\n",
            "Epoch 6 / 10:\n",
            "0 iter of epoch 6, loss: 0.7085\n",
            "50 iter of epoch 6, loss: 0.8198\n",
            "100 iter of epoch 6, loss: 0.8592\n",
            "150 iter of epoch 6, loss: 0.8381\n",
            "200 iter of epoch 6, loss: 1.0632\n",
            "250 iter of epoch 6, loss: 1.3010\n",
            "300 iter of epoch 6, loss: 0.6844\n",
            "350 iter of epoch 6, loss: 0.8260\n",
            "400 iter of epoch 6, loss: 0.9469\n",
            "dev:  loss: 0.9767 - UCM: 19.00% LCM: 17.18% UP: 84.78% UR: 85.19% UF: 84.98% LP: 83.05% LR: 83.44% LF: 83.24%\n",
            "Epoch 6 saved\n",
            "dev:  UCM: 19.00% LCM: 17.18% UP: 84.78% UR: 85.19% UF: 84.98% LP: 83.05% LR: 83.44% LF: 83.24%\n",
            "0:03:06.891352s elapsed, 0:00:31.148559s/epoch\n",
            "Epoch 7 / 10:\n",
            "0 iter of epoch 7, loss: 0.9593\n",
            "50 iter of epoch 7, loss: 0.9693\n",
            "100 iter of epoch 7, loss: 1.2620\n",
            "150 iter of epoch 7, loss: 0.3677\n",
            "200 iter of epoch 7, loss: 0.9080\n",
            "250 iter of epoch 7, loss: 0.8666\n",
            "300 iter of epoch 7, loss: 1.3142\n",
            "350 iter of epoch 7, loss: 1.0839\n",
            "400 iter of epoch 7, loss: 0.7103\n",
            "dev:  loss: 0.9525 - UCM: 17.94% LCM: 16.71% UP: 84.07% UR: 86.39% UF: 85.22% LP: 82.32% LR: 84.59% LF: 83.44%\n",
            "Epoch 7 saved\n",
            "dev:  UCM: 17.94% LCM: 16.71% UP: 84.07% UR: 86.39% UF: 85.22% LP: 82.32% LR: 84.59% LF: 83.44%\n",
            "0:03:38.053530s elapsed, 0:00:31.150504s/epoch\n",
            "Epoch 8 / 10:\n",
            "0 iter of epoch 8, loss: 1.1062\n",
            "50 iter of epoch 8, loss: 0.5310\n",
            "100 iter of epoch 8, loss: 1.0592\n",
            "150 iter of epoch 8, loss: 0.8841\n",
            "200 iter of epoch 8, loss: 0.5313\n",
            "250 iter of epoch 8, loss: 0.8787\n",
            "300 iter of epoch 8, loss: 1.1143\n",
            "350 iter of epoch 8, loss: 0.4255\n",
            "400 iter of epoch 8, loss: 1.1064\n",
            "dev:  loss: 0.9610 - UCM: 18.65% LCM: 17.06% UP: 84.56% UR: 85.44% UF: 85.00% LP: 82.81% LR: 83.68% LF: 83.24%\n",
            "Epoch 7 saved\n",
            "dev:  UCM: 17.94% LCM: 16.71% UP: 84.07% UR: 86.39% UF: 85.22% LP: 82.32% LR: 84.59% LF: 83.44%\n",
            "0:04:09.320413s elapsed, 0:00:31.165052s/epoch\n",
            "Epoch 9 / 10:\n",
            "0 iter of epoch 9, loss: 0.5928\n",
            "50 iter of epoch 9, loss: 0.9433\n",
            "100 iter of epoch 9, loss: 0.8770\n",
            "150 iter of epoch 9, loss: 0.6248\n",
            "200 iter of epoch 9, loss: 0.8798\n",
            "250 iter of epoch 9, loss: 0.4223\n",
            "300 iter of epoch 9, loss: 0.8196\n",
            "350 iter of epoch 9, loss: 0.3623\n",
            "400 iter of epoch 9, loss: 0.5783\n",
            "dev:  loss: 0.9562 - UCM: 19.06% LCM: 17.53% UP: 84.53% UR: 85.50% UF: 85.01% LP: 82.79% LR: 83.74% LF: 83.26%\n",
            "Epoch 7 saved\n",
            "dev:  UCM: 17.94% LCM: 16.71% UP: 84.07% UR: 86.39% UF: 85.22% LP: 82.32% LR: 84.59% LF: 83.44%\n",
            "0:04:40.459842s elapsed, 0:00:31.162205s/epoch\n",
            "Epoch 10 / 10:\n",
            "0 iter of epoch 10, loss: 0.9233\n",
            "50 iter of epoch 10, loss: 0.8050\n",
            "100 iter of epoch 10, loss: 0.4638\n",
            "150 iter of epoch 10, loss: 0.9675\n",
            "200 iter of epoch 10, loss: 0.6201\n",
            "250 iter of epoch 10, loss: 0.4231\n",
            "300 iter of epoch 10, loss: 1.0498\n",
            "350 iter of epoch 10, loss: 0.5212\n",
            "400 iter of epoch 10, loss: 0.6666\n",
            "dev:  loss: 1.0165 - UCM: 18.41% LCM: 17.00% UP: 84.64% UR: 86.25% UF: 85.44% LP: 83.01% LR: 84.59% LF: 83.80%\n",
            "Epoch 10 saved\n",
            "dev:  UCM: 18.41% LCM: 17.00% UP: 84.64% UR: 86.25% UF: 85.44% LP: 83.01% LR: 84.59% LF: 83.80%\n",
            "0:05:11.456536s elapsed, 0:00:31.145654s/epoch\n"
          ],
          "name": "stdout"
        }
      ]
    },
    {
      "cell_type": "code",
      "metadata": {
        "id": "Qt7DjKVS5h-T"
      },
      "source": [
        "import pandas as pd\n",
        "df = pd.read_csv('le_model_1.loss.txt', header = None, names = ['type', 'epoch', 'loss', 'n'])"
      ],
      "execution_count": null,
      "outputs": []
    },
    {
      "cell_type": "code",
      "metadata": {
        "colab": {
          "base_uri": "https://localhost:8080/",
          "height": 297
        },
        "id": "DC0FlqvaK1wA",
        "outputId": "caeaba13-f2f2-4b84-8d9e-881474fa3be6"
      },
      "source": [
        "import matplotlib.pyplot as plt\n",
        "df.loc[df['type']=='dev'].set_index('epoch')['loss'].plot(label = 'dev')\n",
        "df.loc[(df['type']=='train')&(df['n']==0)].set_index('epoch')['loss'].plot(label = 'train')\n",
        "plt.legend()\n",
        "plt.ylabel('loss')"
      ],
      "execution_count": null,
      "outputs": [
        {
          "output_type": "execute_result",
          "data": {
            "text/plain": [
              "Text(0, 0.5, 'loss')"
            ]
          },
          "metadata": {
            "tags": []
          },
          "execution_count": 21
        },
        {
          "output_type": "display_data",
          "data": {
            "image/png": "[encoded data removed]",
            "text/plain": [
              "<Figure size 432x288 with 1 Axes>"
            ]
          },
          "metadata": {
            "tags": [],
            "needs_background": "light"
          }
        }
      ]
    },
    {
      "cell_type": "code",
      "metadata": {
        "colab": {
          "base_uri": "https://localhost:8080/",
          "height": 91
        },
        "id": "RQX25q23Kazo",
        "outputId": "3ca10522-3f0d-4365-eb06-0ef3b4774e5d"
      },
      "source": [
        "pd.concat([df.loc[(df['type']=='train')&(df['n']==400)], df.loc[df['type']=='dev']]).reset_index()[['epoch', 'type', 'loss']].to_latex()"
      ],
      "execution_count": null,
      "outputs": [
        {
          "output_type": "execute_result",
          "data": {
            "application/vnd.google.colaboratory.intrinsic+json": {
              "type": "string"
            },
            "text/plain": [
              "'\\\\begin{tabular}{lrlr}\\n\\\\toprule\\n{} &  epoch & type &      loss \\\\\\\\\\n\\\\midrule\\n0 &      1 &  dev &  1.342575 \\\\\\\\\\n1 &      2 &  dev &  0.975255 \\\\\\\\\\n2 &      3 &  dev &  0.860999 \\\\\\\\\\n3 &      4 &  dev &  0.960702 \\\\\\\\\\n4 &      5 &  dev &  0.851696 \\\\\\\\\\n5 &      6 &  dev &  0.796407 \\\\\\\\\\n6 &      7 &  dev &  0.771163 \\\\\\\\\\n7 &      8 &  dev &  0.814156 \\\\\\\\\\n8 &      9 &  dev &  0.925864 \\\\\\\\\\n9 &     10 &  dev &  0.765504 \\\\\\\\\\n\\\\bottomrule\\n\\\\end{tabular}\\n'"
            ]
          },
          "metadata": {
            "tags": []
          },
          "execution_count": 56
        }
      ]
    },
    {
      "cell_type": "code",
      "metadata": {
        "id": "DX-H0bL1Kc_G"
      },
      "source": [
        "import pandas as pd\n",
        "df = pd.read_csv('le_model_1.metric.txt', header = None, names = ['epoch', 'metric', 'loss'])"
      ],
      "execution_count": null,
      "outputs": []
    },
    {
      "cell_type": "code",
      "metadata": {
        "colab": {
          "base_uri": "https://localhost:8080/",
          "height": 363
        },
        "id": "5vJ29gBGM9zd",
        "outputId": "edf44284-ad71-4db7-a1de-39c823f348c5"
      },
      "source": [
        "df"
      ],
      "execution_count": null,
      "outputs": [
        {
          "output_type": "execute_result",
          "data": {
            "text/html": [
              "<div>\n",
              "<style scoped>\n",
              "    .dataframe tbody tr th:only-of-type {\n",
              "        vertical-align: middle;\n",
              "    }\n",
              "\n",
              "    .dataframe tbody tr th {\n",
              "        vertical-align: top;\n",
              "    }\n",
              "\n",
              "    .dataframe thead th {\n",
              "        text-align: right;\n",
              "    }\n",
              "</style>\n",
              "<table border=\"1\" class=\"dataframe\">\n",
              "  <thead>\n",
              "    <tr style=\"text-align: right;\">\n",
              "      <th></th>\n",
              "      <th>epoch</th>\n",
              "      <th>metric</th>\n",
              "      <th>loss</th>\n",
              "    </tr>\n",
              "  </thead>\n",
              "  <tbody>\n",
              "    <tr>\n",
              "      <th>0</th>\n",
              "      <td>1</td>\n",
              "      <td>UCM: 46.01% LCM: 42.33% UP: 88.45% UR: 84.33% ...</td>\n",
              "      <td>1.342575</td>\n",
              "    </tr>\n",
              "    <tr>\n",
              "      <th>1</th>\n",
              "      <td>2</td>\n",
              "      <td>UCM: 57.67% LCM: 54.60% UP: 91.63% UR: 88.49% ...</td>\n",
              "      <td>0.975255</td>\n",
              "    </tr>\n",
              "    <tr>\n",
              "      <th>2</th>\n",
              "      <td>3</td>\n",
              "      <td>UCM: 59.51% LCM: 57.06% UP: 92.76% UR: 90.94% ...</td>\n",
              "      <td>0.860999</td>\n",
              "    </tr>\n",
              "    <tr>\n",
              "      <th>3</th>\n",
              "      <td>4</td>\n",
              "      <td>UCM: 65.03% LCM: 62.58% UP: 93.09% UR: 92.41% ...</td>\n",
              "      <td>0.960702</td>\n",
              "    </tr>\n",
              "    <tr>\n",
              "      <th>4</th>\n",
              "      <td>5</td>\n",
              "      <td>UCM: 63.19% LCM: 61.35% UP: 93.70% UR: 91.06% ...</td>\n",
              "      <td>0.851696</td>\n",
              "    </tr>\n",
              "    <tr>\n",
              "      <th>5</th>\n",
              "      <td>6</td>\n",
              "      <td>UCM: 65.64% LCM: 63.19% UP: 93.19% UR: 93.76% ...</td>\n",
              "      <td>0.796407</td>\n",
              "    </tr>\n",
              "    <tr>\n",
              "      <th>6</th>\n",
              "      <td>7</td>\n",
              "      <td>UCM: 71.17% LCM: 68.71% UP: 94.44% UR: 93.64% ...</td>\n",
              "      <td>0.771163</td>\n",
              "    </tr>\n",
              "    <tr>\n",
              "      <th>7</th>\n",
              "      <td>8</td>\n",
              "      <td>UCM: 69.33% LCM: 67.48% UP: 94.58% UR: 94.00% ...</td>\n",
              "      <td>0.814156</td>\n",
              "    </tr>\n",
              "    <tr>\n",
              "      <th>8</th>\n",
              "      <td>9</td>\n",
              "      <td>UCM: 68.10% LCM: 65.64% UP: 94.31% UR: 93.27% ...</td>\n",
              "      <td>0.925864</td>\n",
              "    </tr>\n",
              "    <tr>\n",
              "      <th>9</th>\n",
              "      <td>10</td>\n",
              "      <td>UCM: 70.55% LCM: 68.71% UP: 94.35% UR: 94.00% ...</td>\n",
              "      <td>0.765504</td>\n",
              "    </tr>\n",
              "  </tbody>\n",
              "</table>\n",
              "</div>"
            ],
            "text/plain": [
              "   epoch                                             metric      loss\n",
              "0      1  UCM: 46.01% LCM: 42.33% UP: 88.45% UR: 84.33% ...  1.342575\n",
              "1      2  UCM: 57.67% LCM: 54.60% UP: 91.63% UR: 88.49% ...  0.975255\n",
              "2      3  UCM: 59.51% LCM: 57.06% UP: 92.76% UR: 90.94% ...  0.860999\n",
              "3      4  UCM: 65.03% LCM: 62.58% UP: 93.09% UR: 92.41% ...  0.960702\n",
              "4      5  UCM: 63.19% LCM: 61.35% UP: 93.70% UR: 91.06% ...  0.851696\n",
              "5      6  UCM: 65.64% LCM: 63.19% UP: 93.19% UR: 93.76% ...  0.796407\n",
              "6      7  UCM: 71.17% LCM: 68.71% UP: 94.44% UR: 93.64% ...  0.771163\n",
              "7      8  UCM: 69.33% LCM: 67.48% UP: 94.58% UR: 94.00% ...  0.814156\n",
              "8      9  UCM: 68.10% LCM: 65.64% UP: 94.31% UR: 93.27% ...  0.925864\n",
              "9     10  UCM: 70.55% LCM: 68.71% UP: 94.35% UR: 94.00% ...  0.765504"
            ]
          },
          "metadata": {
            "tags": []
          },
          "execution_count": 58
        }
      ]
    },
    {
      "cell_type": "code",
      "metadata": {
        "id": "Vs8oqGx0NPVt"
      },
      "source": [
        "def parse_metric_str(mstr):\n",
        "  items = mstr.replace(' ', '').split('%')\n",
        "  d = {}\n",
        "  for i in items[:-1]:\n",
        "    \n",
        "    name = i.split(':')[0]\n",
        "    num = float(i.split(':')[1])\n",
        "    d[name] = num\n",
        "  return d\n",
        "\n"
      ],
      "execution_count": null,
      "outputs": []
    },
    {
      "cell_type": "code",
      "metadata": {
        "colab": {
          "base_uri": "https://localhost:8080/",
          "height": 165
        },
        "id": "PdD7cxP6NyUB",
        "outputId": "63f6e6c5-dab6-458a-fe5e-b10f4a382907"
      },
      "source": [
        "metric_parsed = pd.DataFrame.from_dict(df['metric'].apply(parse_metric_str).tolist())\n",
        "pd.concat([df, metric_parsed], axis = 1).drop('metric', axis = 1).to_latex()"
      ],
      "execution_count": null,
      "outputs": [
        {
          "output_type": "execute_result",
          "data": {
            "application/vnd.google.colaboratory.intrinsic+json": {
              "type": "string"
            },
            "text/plain": [
              "'\\\\begin{tabular}{lrrrrrrrrrr}\\n\\\\toprule\\n{} &  epoch &      loss &    UCM &    LCM &     UP &     UR &     UF &     LP &     LR &     LF \\\\\\\\\\n\\\\midrule\\n0 &      1 &  1.342575 &  46.01 &  42.33 &  88.45 &  84.33 &  86.34 &  84.08 &  80.17 &  82.08 \\\\\\\\\\n1 &      2 &  0.975255 &  57.67 &  54.60 &  91.63 &  88.49 &  90.04 &  87.45 &  84.46 &  85.93 \\\\\\\\\\n2 &      3 &  0.860999 &  59.51 &  57.06 &  92.76 &  90.94 &  91.84 &  89.39 &  87.64 &  88.50 \\\\\\\\\\n3 &      4 &  0.960702 &  65.03 &  62.58 &  93.09 &  92.41 &  92.75 &  90.14 &  89.47 &  89.80 \\\\\\\\\\n4 &      5 &  0.851696 &  63.19 &  61.35 &  93.70 &  91.06 &  92.36 &  90.55 &  88.00 &  89.26 \\\\\\\\\\n5 &      6 &  0.796407 &  65.64 &  63.19 &  93.19 &  93.76 &  93.47 &  90.02 &  90.58 &  90.30 \\\\\\\\\\n6 &      7 &  0.771163 &  71.17 &  68.71 &  94.44 &  93.64 &  94.04 &  91.73 &  90.94 &  91.33 \\\\\\\\\\n7 &      8 &  0.814156 &  69.33 &  67.48 &  94.58 &  94.00 &  94.29 &  91.63 &  91.06 &  91.34 \\\\\\\\\\n8 &      9 &  0.925864 &  68.10 &  65.64 &  94.31 &  93.27 &  93.78 &  91.46 &  90.45 &  90.95 \\\\\\\\\\n9 &     10 &  0.765504 &  70.55 &  68.71 &  94.35 &  94.00 &  94.18 &  91.52 &  91.19 &  91.35 \\\\\\\\\\n\\\\bottomrule\\n\\\\end{tabular}\\n'"
            ]
          },
          "metadata": {
            "tags": []
          },
          "execution_count": 59
        }
      ]
    },
    {
      "cell_type": "code",
      "metadata": {
        "id": "1YakPK6LM-ec"
      },
      "source": [
        "metric_terms = df['metric'].str.split(' ', expand = True)[[0,2,4,6]]"
      ],
      "execution_count": null,
      "outputs": []
    },
    {
      "cell_type": "code",
      "metadata": {
        "colab": {
          "base_uri": "https://localhost:8080/",
          "height": 36
        },
        "id": "SCagQGZiNBnc",
        "outputId": "f025c796-f027-4f14-c86f-cbd0157e8be5"
      },
      "source": [
        "df['metric'][0]"
      ],
      "execution_count": null,
      "outputs": [
        {
          "output_type": "execute_result",
          "data": {
            "application/vnd.google.colaboratory.intrinsic+json": {
              "type": "string"
            },
            "text/plain": [
              "'UCM: 11.82% LCM:  9.71% UP: 78.98% UR: 80.55% UF: 79.76% LP: 76.50% LR: 78.01% LF: 77.25%'"
            ]
          },
          "metadata": {
            "tags": []
          },
          "execution_count": 38
        }
      ]
    },
    {
      "cell_type": "code",
      "metadata": {
        "id": "Xw_WAr8pNMHe"
      },
      "source": [
        ""
      ],
      "execution_count": null,
      "outputs": []
    }
  ]
}